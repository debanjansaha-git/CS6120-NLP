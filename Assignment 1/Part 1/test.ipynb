{
 "cells": [
  {
   "cell_type": "markdown",
   "metadata": {},
   "source": [
    "# Test Module"
   ]
  },
  {
   "cell_type": "code",
   "execution_count": 29,
   "metadata": {},
   "outputs": [],
   "source": [
    "from byte_pair_encoding.bpe import BytePairEncoder\n",
    "import nltk\n",
    "import os\n",
    "import json\n",
    "from collections import Counter"
   ]
  },
  {
   "cell_type": "markdown",
   "metadata": {},
   "source": [
    "## BPE Tokenization"
   ]
  },
  {
   "cell_type": "code",
   "execution_count": 30,
   "metadata": {},
   "outputs": [],
   "source": [
    "# Load the trained BPE vocabulary\n",
    "vocab_file = 'dataset/vocab/bpe_train_vocab.txt'\n",
    "bpe = BytePairEncoder()\n",
    "with open(vocab_file, 'r', encoding='utf-8') as f:\n",
    "    vocab = {}\n",
    "    for line in f:\n",
    "        token, freq = line.strip().split(': ')\n",
    "        vocab[token] = int(freq)\n",
    "    bpe.vocab = vocab"
   ]
  },
  {
   "cell_type": "code",
   "execution_count": 31,
   "metadata": {},
   "outputs": [],
   "source": [
    "# Directory containing the test books\n",
    "test_dir = 'dataset/test'"
   ]
  },
  {
   "cell_type": "markdown",
   "metadata": {},
   "source": [
    "### Default Tokenization"
   ]
  },
  {
   "cell_type": "code",
   "execution_count": 32,
   "metadata": {},
   "outputs": [],
   "source": [
    "# Initialize NLTK's Punkt tokenizer\n",
    "def_tokenizer = nltk.tokenize.punkt.PunktSentenceTokenizer()\n",
    "# Store a reference to the test default tokens\n",
    "ref_test_tokens = {}"
   ]
  },
  {
   "cell_type": "markdown",
   "metadata": {},
   "source": [
    "### Evaluate BPE algorithm on the test dataset"
   ]
  },
  {
   "cell_type": "code",
   "execution_count": 33,
   "metadata": {},
   "outputs": [
    {
     "name": "stdout",
     "output_type": "stream",
     "text": [
      "File: sherlock-holmes.txt\n",
      "Original Text:\n",
      "﻿The Project Gutenberg eBook of The Adventures of Sherlock Holmes\n",
      "    \n",
      "This ebook is for the use of ...\n",
      "Decoded Text:\n",
      "﻿The Project Gutenberg eBook of The Adventures of Sherlock Holmes\n",
      "    \n",
      "This ebook is for the use of ...\n",
      "\n",
      "File: frankenstein.txt\n",
      "Original Text:\n",
      "﻿The Project Gutenberg eBook of Frankenstein; Or, The Modern Prometheus\n",
      "    \n",
      "This ebook is for the u...\n",
      "Decoded Text:\n",
      "﻿The Project Gutenberg eBook of Frankenstein; Or, The Modern Prometheus\n",
      "    \n",
      "This ebook is for the u...\n",
      "\n",
      "File: dracula.txt\n",
      "Original Text:\n",
      "﻿The Project Gutenberg eBook of Dracula\n",
      "    \n",
      "This ebook is for the use of anyone anywhere in the Uni...\n",
      "Decoded Text:\n",
      "﻿The Project Gutenberg eBook of Dracula\n",
      "    \n",
      "This ebook is for the use of anyone anywhere in the Uni...\n",
      "\n"
     ]
    }
   ],
   "source": [
    "# Evaluate on test books\n",
    "total_tokens = 0\n",
    "correct_tokens = 0\n",
    "\n",
    "for file_name in os.listdir(test_dir):\n",
    "    with open(os.path.join(test_dir, file_name), 'r', encoding='utf-8') as file:\n",
    "        text = file.read()\n",
    "        \n",
    "        # Encode the text using the trained BPE vocabulary\n",
    "        encoded_text = bpe.encode(text)\n",
    "\n",
    "        # Decode the encoded text\n",
    "        decoded_text = bpe.decode(encoded_text)\n",
    "\n",
    "        # BPE Tokenization accuracy and coverage\n",
    "        original_tokens = text.split()\n",
    "        decoded_tokens = decoded_text.split()\n",
    "        correct_tokens += sum(1 for token in decoded_tokens if token in original_tokens)\n",
    "        total_tokens += len(original_tokens)\n",
    "\n",
    "        print(f\"File: {file_name}\")\n",
    "        print(f\"Original Text:\\n{text[:100]}...\")\n",
    "        print(f\"Decoded Text:\\n{decoded_text[:100]}...\")\n",
    "        print(\"\")\n"
   ]
  },
  {
   "cell_type": "markdown",
   "metadata": {},
   "source": [
    "### BPE Metrics"
   ]
  },
  {
   "cell_type": "code",
   "execution_count": 34,
   "metadata": {},
   "outputs": [
    {
     "name": "stdout",
     "output_type": "stream",
     "text": [
      "Precision: 1.00\n",
      "Recall: 1.00\n",
      "F1 Score: 1.00\n",
      "Jaccard Similarity: 1.00\n",
      "Tokenization Accuracy: 100.00%\n",
      "Coverage: 100.00%\n"
     ]
    }
   ],
   "source": [
    "# Calculate metrics\n",
    "original_tokens_set = set(text.split())\n",
    "decoded_tokens_set = set(decoded_text.split())\n",
    "\n",
    "TP = len(decoded_tokens_set.intersection(original_tokens_set))\n",
    "FP = len(decoded_tokens_set - original_tokens_set)\n",
    "FN = len(original_tokens_set - decoded_tokens_set)\n",
    "\n",
    "# Calculate precision, recall, F1 score\n",
    "precision = TP / (TP + FP) if TP + FP > 0 else 0\n",
    "recall = TP / (TP + FN) if TP + FN > 0 else 0\n",
    "f1_score = 2 * (precision * recall) / (precision + recall) if precision + recall > 0 else 0\n",
    "# Calculate Jaccard similarity\n",
    "jaccard_similarity = len(decoded_tokens_set.intersection(original_tokens_set)) / len(decoded_tokens_set.union(original_tokens_set))\n",
    "# Calculate tokenization accuracy\n",
    "tokenization_accuracy = correct_tokens / total_tokens * 100\n",
    "# Calculate tokenization coverage\n",
    "coverage = (len(decoded_tokens_set) / len(original_tokens_set)) * 100\n",
    "\n",
    "print(f\"Precision: {precision:.2f}\")\n",
    "print(f\"Recall: {recall:.2f}\")\n",
    "print(f\"F1 Score: {f1_score:.2f}\")\n",
    "print(f\"Jaccard Similarity: {jaccard_similarity:.2f}\")\n",
    "print(f\"Tokenization Accuracy: {tokenization_accuracy:.2f}%\")\n",
    "print(f\"Coverage: {coverage:.2f}%\")\n"
   ]
  },
  {
   "cell_type": "code",
   "execution_count": null,
   "metadata": {},
   "outputs": [],
   "source": []
  },
  {
   "cell_type": "markdown",
   "metadata": {},
   "source": [
    "## Reference Tokenization"
   ]
  },
  {
   "cell_type": "code",
   "execution_count": 35,
   "metadata": {},
   "outputs": [],
   "source": [
    "for file_name in os.listdir(test_dir):\n",
    "    with open(os.path.join(test_dir, file_name), 'r', encoding='utf-8') as file:\n",
    "        text = file.read()\n",
    "        \n",
    "        # Tokenize with the default punkt tokenizer\n",
    "        def_tokenized_text = def_tokenizer.tokenize(text)\n",
    "        ref_test_tokens[file_name] = def_tokenized_text"
   ]
  },
  {
   "cell_type": "markdown",
   "metadata": {},
   "source": [
    "### Save Reference Tokens"
   ]
  },
  {
   "cell_type": "code",
   "execution_count": 36,
   "metadata": {},
   "outputs": [
    {
     "name": "stdout",
     "output_type": "stream",
     "text": [
      "Reference tokenization saved to dataset/vocab/reference_punkt_tokens.json\n"
     ]
    }
   ],
   "source": [
    "# Save the tokenized results in a structured format\n",
    "output_file = 'dataset/vocab/reference_punkt_tokens.json'\n",
    "with open(output_file, 'w', encoding='utf-8') as file:\n",
    "    json.dump(ref_test_tokens, file, indent=4)\n",
    "\n",
    "print(f\"Reference tokenization saved to {output_file}\")"
   ]
  },
  {
   "cell_type": "markdown",
   "metadata": {},
   "source": [
    "## Baseline Tokenization"
   ]
  },
  {
   "cell_type": "code",
   "execution_count": 37,
   "metadata": {},
   "outputs": [],
   "source": [
    "# Load reference tokenization\n",
    "with open('dataset/vocab/reference_punkt_tokens.json', 'r', encoding='utf-8') as file:\n",
    "    reference_tokenization = json.load(file)"
   ]
  },
  {
   "cell_type": "code",
   "execution_count": 38,
   "metadata": {},
   "outputs": [],
   "source": [
    "tokenizer = nltk.tokenize.word_tokenize"
   ]
  },
  {
   "cell_type": "code",
   "execution_count": 39,
   "metadata": {},
   "outputs": [],
   "source": [
    "# Initialize variables for evaluation metrics\n",
    "total_tokens_default = 0\n",
    "correct_tokens_default = 0"
   ]
  },
  {
   "cell_type": "code",
   "execution_count": 40,
   "metadata": {},
   "outputs": [],
   "source": [
    "# Evaluate BPE algorithm and NLTK's default tokenizer\n",
    "for file_name, tokenized_text in reference_tokenization.items():\n",
    "    with open(os.path.join(test_dir, file_name), 'r', encoding='utf-8') as file:\n",
    "        text = file.read()\n",
    "\n",
    "        # Tokenize with NLTK's default method\n",
    "        default_tokens = tokenizer(text)\n",
    "\n",
    "        # Calculate token coverage\n",
    "        unique_default_tokens = set(default_tokens)\n",
    "        unique_tokens_covered = sum(1 for token in unique_default_tokens if token in tokenized_text)\n",
    "        total_unique_tokens_reference = len(tokenized_text)\n",
    "\n",
    "        # Calculate metrics for NLTK's default method\n",
    "        total_tokens_default += len(default_tokens)\n",
    "        correct_tokens_default += sum(1 for token in default_tokens if token in tokenized_text)\n"
   ]
  },
  {
   "cell_type": "code",
   "execution_count": 41,
   "metadata": {},
   "outputs": [],
   "source": [
    "# Calculate accuracy, coverage, precision, recall, F1 score, and Jaccard similarity for both methods\n",
    "accuracy_default = (correct_tokens_default / total_tokens_default) * 100 if total_tokens_default > 0 else 0\n",
    "\n",
    "coverage_default = (unique_tokens_covered / total_unique_tokens_reference) * 100\n",
    "\n",
    "precision_default = (correct_tokens_default / total_tokens_default) if total_tokens_default > 0 else 0\n",
    "\n",
    "recall_default = (correct_tokens_default / sum(len(tokenized_text) for tokenized_text in reference_tokenization.values())) if total_tokens_default > 0 else 0\n",
    "\n",
    "f1_score_default = 2 * (precision_default * recall_default) / (precision_default + recall_default) if (precision_default + recall_default) > 0 else 0\n",
    "\n",
    "jaccard_similarity_default = correct_tokens_default / total_tokens_default if total_tokens_default > 0 else 0\n"
   ]
  },
  {
   "cell_type": "code",
   "execution_count": 42,
   "metadata": {},
   "outputs": [
    {
     "name": "stdout",
     "output_type": "stream",
     "text": [
      "\n",
      "NLTK's Default Tokenizer Metrics:\n",
      "Accuracy: 0.20%\n",
      "Coverage: 0.10%\n",
      "Precision: 0.00\n",
      "Recall: 0.05\n",
      "F1 Score: 0.00\n",
      "Jaccard Similarity: 0.00\n"
     ]
    }
   ],
   "source": [
    "print(\"\\nNLTK's Default Tokenizer Metrics:\")\n",
    "print(f\"Accuracy: {accuracy_default:.2f}%\")\n",
    "print(f\"Coverage: {coverage_default:.2f}%\")\n",
    "print(f\"Precision: {precision_default:.2f}\")\n",
    "print(f\"Recall: {recall_default:.2f}\")\n",
    "print(f\"F1 Score: {f1_score_default:.2f}\")\n",
    "print(f\"Jaccard Similarity: {jaccard_similarity_default:.2f}\")"
   ]
  },
  {
   "cell_type": "markdown",
   "metadata": {},
   "source": []
  }
 ],
 "metadata": {
  "kernelspec": {
   "display_name": "Python 3",
   "language": "python",
   "name": "python3"
  },
  "language_info": {
   "codemirror_mode": {
    "name": "ipython",
    "version": 3
   },
   "file_extension": ".py",
   "mimetype": "text/x-python",
   "name": "python",
   "nbconvert_exporter": "python",
   "pygments_lexer": "ipython3",
   "version": "3.9.6"
  }
 },
 "nbformat": 4,
 "nbformat_minor": 2
}
