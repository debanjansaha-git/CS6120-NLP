{
 "cells": [
  {
   "cell_type": "markdown",
   "metadata": {},
   "source": [
    "## CS 6120: Natural Language Processing - Prof. Ahmad Uzair\n",
    "\n",
    "### Text Classification Assignment: Movie Review Sentiment Analysis"
   ]
  },
  {
   "cell_type": "code",
   "execution_count": 3,
   "metadata": {},
   "outputs": [
    {
     "name": "stderr",
     "output_type": "stream",
     "text": [
      "/var/folders/0w/s6czy_f56mb2kbh_zh49kv0r0000gn/T/ipykernel_12230/3326837576.py:4: DeprecationWarning: \n",
      "Pyarrow will become a required dependency of pandas in the next major release of pandas (pandas 3.0),\n",
      "(to allow more performant data types, such as the Arrow string type, and better interoperability with other libraries)\n",
      "but was not found to be installed on your system.\n",
      "If this would cause problems for you,\n",
      "please provide us feedback at https://github.com/pandas-dev/pandas/issues/54466\n",
      "        \n",
      "  import pandas as pd\n",
      "[nltk_data] Downloading package stopwords to\n",
      "[nltk_data]     /Users/debanjansaha/nltk_data...\n",
      "[nltk_data]   Package stopwords is already up-to-date!\n",
      "[nltk_data] Downloading package punkt to\n",
      "[nltk_data]     /Users/debanjansaha/nltk_data...\n",
      "[nltk_data]   Package punkt is already up-to-date!\n",
      "[nltk_data] Downloading package wordnet to\n",
      "[nltk_data]     /Users/debanjansaha/nltk_data...\n",
      "[nltk_data] Downloading package omw-1.4 to\n",
      "[nltk_data]     /Users/debanjansaha/nltk_data...\n"
     ]
    }
   ],
   "source": [
    "# Import Libraries\n",
    "import numpy as np\n",
    "import math\n",
    "import pandas as pd\n",
    "import re\n",
    "import nltk\n",
    "import string\n",
    "from nltk.corpus import stopwords\n",
    "from nltk.stem import PorterStemmer\n",
    "from nltk.tokenize import word_tokenize, RegexpTokenizer\n",
    "from nltk.stem import WordNetLemmatizer\n",
    "import warnings\n",
    "from sklearn.model_selection import train_test_split\n",
    "nltk.download('stopwords')\n",
    "nltk.download('punkt')\n",
    "nltk.download('wordnet')\n",
    "nltk.download('omw-1.4')\n",
    "import seaborn as sns\n",
    "import matplotlib.pyplot as plt\n",
    "from sklearn.metrics import confusion_matrix\n",
    "warnings.filterwarnings(\"ignore\")"
   ]
  },
  {
   "cell_type": "markdown",
   "metadata": {},
   "source": [
    "### 1. Data Preparation (3 marks):\n",
    "Load the NLTK Movie Reviews dataset.\n",
    "Here's how you can obtain the IMDb movie reviews dataset: \n",
    "\n",
    "**Download the Dataset:**\n",
    "You can download the dataset from the NLTK library. NLTK provides a convenient interface to access this dataset."
   ]
  },
  {
   "cell_type": "code",
   "execution_count": 1,
   "metadata": {},
   "outputs": [
    {
     "name": "stderr",
     "output_type": "stream",
     "text": [
      "[nltk_data] Downloading package movie_reviews to\n",
      "[nltk_data]     /Users/debanjansaha/nltk_data...\n",
      "[nltk_data]   Unzipping corpora/movie_reviews.zip.\n"
     ]
    },
    {
     "data": {
      "text/plain": [
       "True"
      ]
     },
     "execution_count": 1,
     "metadata": {},
     "output_type": "execute_result"
    }
   ],
   "source": [
    "import nltk\n",
    "# Download the IMDb movie reviews dataset\n",
    "nltk.download('movie_reviews')"
   ]
  },
  {
   "cell_type": "markdown",
   "metadata": {},
   "source": [
    "**Access the Dataset:**\n",
    "* Once you have downloaded the dataset, you can access the movie reviews and their corresponding labels using the following code:"
   ]
  },
  {
   "cell_type": "code",
   "execution_count": 22,
   "metadata": {},
   "outputs": [],
   "source": [
    "from nltk.corpus import movie_reviews\n",
    "\n",
    "# Access the movie reviews and labels\n",
    "documents = [(movie_reviews.words(fileid), category)\n",
    "              for category in movie_reviews.categories()\n",
    "              for fileid in movie_reviews.fileids(category)]\n",
    "\n",
    "# Shuffle the documents to ensure a balanced distribution of positive and negative reviews\n",
    "import random\n",
    "random.shuffle(documents)"
   ]
  },
  {
   "cell_type": "markdown",
   "metadata": {},
   "source": [
    "**Explore the Dataset:**\n",
    "\n",
    "* Take a look at the structure of the dataset and sample reviews to understand its characteristics."
   ]
  },
  {
   "cell_type": "code",
   "execution_count": 23,
   "metadata": {},
   "outputs": [
    {
     "name": "stdout",
     "output_type": "stream",
     "text": [
      "Sample Review: ['disney', \"'\", 's', '35th', 'animated', 'feature', '--', 'a', 'retooling', 'of']\n",
      "Label: pos\n"
     ]
    }
   ],
   "source": [
    "# Print the first review and its label\n",
    "print(\"Sample Review:\", documents[0][0][:10])  # Displaying the first 10 words for brevity\n",
    "print(\"Label:\", documents[0][1])"
   ]
  },
  {
   "cell_type": "markdown",
   "metadata": {},
   "source": [
    "This IMDb movie reviews dataset is suitable for sentiment analysis tasks, and it provides a good balance between positive and negative reviews.\n",
    "\n",
    "### Preprocessing\n",
    "Preprocess the dataset by tokenization (use nltk punkt tokenizer), stemming/lemmatization, and removing stop words."
   ]
  },
  {
   "cell_type": "code",
   "execution_count": 10,
   "metadata": {},
   "outputs": [],
   "source": [
    "def clean_review(review):\n",
    " \n",
    "    '''\n",
    "    Input:\n",
    "        review: a string containing a review.\n",
    "    Output:\n",
    "        review_cleaned: a processed review. \n",
    "\n",
    "    '''\n",
    "    # Converting the reviews to lowercase\n",
    "    review_cleaned = review.lower()\n",
    "\n",
    "    # Removing HTML patterns like <br />\n",
    "    html_pattern = re.compile('<.*?>')\n",
    "    review_cleaned = html_pattern.sub(r'', review_cleaned) \n",
    "\n",
    "    # Removing url's if any in the code\n",
    "    url_pattern = re.compile(r'https?://\\S+|www\\.\\S+')\n",
    "    review_cleaned = url_pattern.sub(r'', review_cleaned)\n",
    "\n",
    "    # List of stop words\n",
    "    stop_words = set(stopwords.words('english')) \n",
    "\n",
    "    # Tokenizing using NLTK's punkt tokenizer\n",
    "    tokenwords = word_tokenize(review_cleaned)\n",
    "    \n",
    "    # Removing stop words using the list created above\n",
    "    result = [] \n",
    "    for w in tokenwords: \n",
    "      if w not in stop_words: \n",
    "        result.append(w)\n",
    "    \n",
    "    # Lemmatizing the words\n",
    "    # Performing lemmatization instead of suggested stemming as lemmatization improved the accuracy of the model\n",
    "    lemmatizer = WordNetLemmatizer()\n",
    "    review_cleaned = [lemmatizer.lemmatize(w) for w in result]\n",
    "\n",
    "    # ps = PorterStemmer()\n",
    "    # review_cleaned = [ps.stem(w) for w in result]\n",
    "\n",
    "    # Joining the list of words back into a string\n",
    "    review_cleaned = \" \".join(review_cleaned)\n",
    "\n",
    "    return review_cleaned"
   ]
  },
  {
   "cell_type": "code",
   "execution_count": 31,
   "metadata": {},
   "outputs": [],
   "source": [
    "# Apply the clean_review function to the entire dataset\n",
    "cleaned_documents = [(clean_review(' '.join(words)), category) for words, category in documents]\n",
    "clean_df = pd.DataFrame(cleaned_documents, columns=[\"review\", \"sentiment\"])"
   ]
  },
  {
   "cell_type": "markdown",
   "metadata": {},
   "source": [
    "### 2. Coverage Analysis Insights (2 marks):\n",
    "* Conduct a coverage analysis to identify the percentage of unique words covered by the preprocessing steps.\n",
    "* Visualize the coverage analysis with the y-axis representing coverage percentage and the x- axis representing the number of tokens (words) considered. Use a line plot for clarity."
   ]
  },
  {
   "cell_type": "code",
   "execution_count": 37,
   "metadata": {},
   "outputs": [
    {
     "data": {
      "image/png": "[encoded data removed]",
      "text/plain": [
       "<Figure size 800x400 with 1 Axes>"
      ]
     },
     "metadata": {},
     "output_type": "display_data"
    }
   ],
   "source": [
    "# Extract the unique words from the preprocessed documents:\n",
    "words = [word for doc, _ in documents for word in doc]\n",
    "uniq_words = set(words)\n",
    "unique_words_count = len(uniq_words)\n",
    "\n",
    "# Calculate coverage percentage for respective vocab sizes:\n",
    "voc_size = range(100, len(words), 100)\n",
    "perc = []\n",
    "\n",
    "for i in voc_size:\n",
    "    sub_set = set(words[:i])\n",
    "    cov_per = (len(sub_set) / unique_words_count) * 100\n",
    "    perc.append(cov_per)\n",
    "\n",
    "# Visualize the coverage analysis\n",
    "plt.figure(figsize=(8, 4))\n",
    "plt.plot(voc_size, perc, marker='o', linestyle='--', color='r')\n",
    "plt.title('Coverage Analysis Plot')\n",
    "plt.xlabel('Number of Token Words')\n",
    "plt.ylabel('Percentage Coverage %')\n",
    "plt.show()"
   ]
  },
  {
   "cell_type": "markdown",
   "metadata": {},
   "source": [
    "### Discussions\n",
    "\n",
    "#### Coverage analysis\n",
    "The coverage analysis provides valuable insights into how the preprocessing steps affect the coverage of unique words in the dataset. Here are the observations based on the analysis:\n",
    "\n",
    "* How does the coverage change with the number of tokens considered? \\\n",
    "Initially, as the number of tokens considered increases, the coverage percentage also increases rapidly. This is because adding more tokens introduces new unique words, thereby increasing coverage. However, as the number of tokens continues to increase, the rate of increase in coverage slows down.\n",
    "\n",
    "* At what point does the coverage seem to stabilize? \\\n",
    "The coverage seems to stabilize at a certain point, indicating that adding more tokens beyond this point has diminishing returns in terms of covering unique words. After reaching this stabilization point, further increasing the number of tokens has minimal impact on increasing coverage.\n",
    "\n",
    "* Are there diminishing returns in terms of coverage as the number of tokens increases? \\\n",
    "There are indeed diminishing returns in terms of coverage as the number of tokens increases. Initially, adding more tokens leads to a significant increase in coverage. However, as the vocabulary size grows larger, the incremental increase in coverage becomes smaller, indicating diminishing returns.\n",
    "\n",
    "\n",
    "#### Rationalization for Vocabulary Choice :\n",
    "The choice of vocabulary size for modeling involves several considerations to strike a balance between informativeness and computational efficiency:\n",
    "\n",
    "* The trade-off between a larger vocabulary (more words) and computational efficiency. \\\n",
    "A larger vocabulary (more words) increases the complexity of the model and computational requirements. On the other hand, a smaller vocabulary reduces the computational burden but may result in loss of important information. Therefore, choosing an optimal vocabulary size involves balancing computational efficiency with the need for informative features.\n",
    "\n",
    "* The impact of rare or very common words on the model's generalization. \\\n",
    "Rare words may introduce noise into the model, while very common words may not provide much discriminatory power. Therefore, it's essential to consider the impact of rare and very common words on the model's generalization. Choosing an appropriate cutoff for including or excluding such words in the vocabulary can help improve model performance.\n",
    "\n",
    "* The need to balance informativeness and model complexity. \\\n",
    "The vocabulary size directly impacts the model's complexity and its ability to generalize to unseen data. A vocabulary that is too small may result in underfitting, while a vocabulary that is too large may lead to overfitting. Therefore, it's crucial to strike a balance between informativeness and model complexity by choosing a vocabulary size that captures the essential information without introducing unnecessary complexity.\n",
    "\n",
    "* Any specific considerations for the chosen algorithms (Naive Bayes, Logistic Regression, MLP) in terms of vocabulary size. \\\n",
    "Different algorithms may have different sensitivities to vocabulary size. For example, Naive Bayes classifiers rely on word frequencies and may benefit from a larger vocabulary to capture more nuanced patterns in the data. In contrast, logistic regression and MLP models may be more flexible in handling larger vocabularies but may also require more computational resources. Therefore, the choice of algorithms may influence the decision regarding the vocabulary size.\n"
   ]
  },
  {
   "cell_type": "markdown",
   "metadata": {},
   "source": [
    "## 3. Algorithm Implementation (6 marks):"
   ]
  },
  {
   "cell_type": "code",
   "execution_count": 52,
   "metadata": {},
   "outputs": [],
   "source": [
    "from sklearn.feature_extraction.text import CountVectorizer, TfidfVectorizer\n",
    "from sklearn.naive_bayes import MultinomialNB\n",
    "from sklearn.linear_model import LogisticRegression\n",
    "from sklearn.neural_network import MLPClassifier\n",
    "from sklearn.metrics import accuracy_score, confusion_matrix"
   ]
  },
  {
   "cell_type": "code",
   "execution_count": 48,
   "metadata": {},
   "outputs": [
    {
     "name": "stdout",
     "output_type": "stream",
     "text": [
      "Shape of X_train: (1600,) \n",
      "Shape of X_test: (400,)\n"
     ]
    }
   ],
   "source": [
    "# split the cleaned data into training and testing sets of 80-20\n",
    "X_train, X_test, y_train, y_test = train_test_split(clean_df.iloc[:,0], clean_df.iloc[:,1], test_size=0.2, random_state=42)\n",
    "print(f\"Shape of X_train: {X_train.shape} \\nShape of X_test: {X_test.shape}\")"
   ]
  },
  {
   "cell_type": "markdown",
   "metadata": {},
   "source": [
    "### a. Naive Bayes:\n",
    "- Implement a Multinomial Naive Bayes classifier.\n",
    "- Train and test the model using both TF and TF-IDF as feature representations."
   ]
  },
  {
   "cell_type": "code",
   "execution_count": 60,
   "metadata": {},
   "outputs": [],
   "source": [
    "# Function to train and test Naive Bayes classifier using TF or TF-IDF\n",
    "def naive_bayes_classification(X_train, y_train, X_test, feature_representation, **kwargs):\n",
    "    # Extract features from text data\n",
    "    if feature_representation == 'TF':\n",
    "        vectorizer = CountVectorizer()\n",
    "    elif feature_representation == 'TF-IDF':\n",
    "        vectorizer = TfidfVectorizer()\n",
    "    else:\n",
    "        raise ValueError(\"Invalid feature representation. Choose 'TF' or 'TF-IDF'.\")\n",
    "\n",
    "    train_data = vectorizer.fit_transform(X_train)\n",
    "    test_data = vectorizer.transform(X_test)\n",
    "    \n",
    "    # Train Naive Bayes classifier\n",
    "    classifier = MultinomialNB()\n",
    "    classifier.fit(train_data, y_train)\n",
    "    \n",
    "    # Test Naive Bayes classifier\n",
    "    predictions = classifier.predict(test_data)\n",
    "    \n",
    "    return predictions"
   ]
  },
  {
   "cell_type": "markdown",
   "metadata": {},
   "source": [
    "### b. Logistic Regression:\n",
    "- Implement a Logistic Regression classifier.\n",
    "- Train and test the model using both TF and TF-IDF."
   ]
  },
  {
   "cell_type": "code",
   "execution_count": 61,
   "metadata": {},
   "outputs": [],
   "source": [
    "# Function to train and test Logistic Regression classifier using TF or TF-IDF\n",
    "def logistic_regression(X_train, y_train, X_test, feature_representation, **kwargs):\n",
    "    # Extract features from text data\n",
    "    if feature_representation == 'TF':\n",
    "        vectorizer = CountVectorizer()\n",
    "    elif feature_representation == 'TF-IDF':\n",
    "        vectorizer = TfidfVectorizer()\n",
    "    else:\n",
    "        raise ValueError(\"Invalid feature representation. Choose 'TF' or 'TF-IDF'.\")\n",
    "\n",
    "    train_data = vectorizer.fit_transform(X_train)\n",
    "    test_data = vectorizer.transform(X_test)\n",
    "    \n",
    "    # Train Logistic Regression classifier\n",
    "    classifier = LogisticRegression()\n",
    "    classifier.fit(train_data, y_train)\n",
    "    \n",
    "    # Test Logistic Regression classifier\n",
    "    predictions = classifier.predict(test_data)\n",
    "    \n",
    "    return predictions"
   ]
  },
  {
   "cell_type": "markdown",
   "metadata": {},
   "source": [
    "### c. Multilayer Perceptron (MLP): \n",
    "* Implement an MLP-based classifier.\n",
    "* Explore different architectures (number of layers, neurons per layer). \n",
    "* Train and test the model using both TF and TF-IDF."
   ]
  },
  {
   "cell_type": "code",
   "execution_count": 62,
   "metadata": {},
   "outputs": [],
   "source": [
    "# Function to train and test Multilayer Perceptron classifier using TF or TF-IDF\n",
    "def mlp_classifier(X_train, y_train, X_test, feature_representation, **kwargs):\n",
    "    \n",
    "    # Extract model parameters\n",
    "    mlp_arch = kwargs.get(\"mlp_arch\", (100,))\n",
    "    max_iter = kwargs.get(\"max_iter\", 500)\n",
    "\n",
    "    # Extract features from text data\n",
    "    if feature_representation == 'TF':\n",
    "        vectorizer = CountVectorizer()\n",
    "    elif feature_representation == 'TF-IDF':\n",
    "        vectorizer = TfidfVectorizer()\n",
    "    else:\n",
    "        raise ValueError(\"Invalid feature representation. Choose 'TF' or 'TF-IDF'.\")\n",
    "\n",
    "    train_data = vectorizer.fit_transform(X_train)\n",
    "    test_data = vectorizer.transform(X_test)\n",
    "    \n",
    "    # Train MLP classifier\n",
    "    classifier = MLPClassifier(hidden_layer_sizes=mlp_arch, max_iter=max_iter)\n",
    "    classifier.fit(train_data, y_train)\n",
    "    \n",
    "    # Test MLP classifier\n",
    "    predictions = classifier.predict(test_data)\n",
    "    \n",
    "    return predictions"
   ]
  },
  {
   "cell_type": "markdown",
   "metadata": {},
   "source": [
    "### 4. Training and Evaluation (4 marks):\n",
    "* Train each algorithm on the training set.\n",
    "* Evaluate the performance of each algorithm on the testing set using accuracy, TPR, FPR as the primary metrics.\n",
    "* Compare the impact of using TF and TF-IDF on each algorithm's performance."
   ]
  },
  {
   "cell_type": "code",
   "execution_count": 89,
   "metadata": {},
   "outputs": [],
   "source": [
    "def calculate_tpr_fpr(confusion_matrix):\n",
    "    TN, FP, FN, TP = confusion_matrix.ravel()\n",
    "    TPR = TP / (TP + FN)\n",
    "    FPR = FP / (FP + TN)\n",
    "    return TPR, FPR\n",
    "\n",
    "def train_evaluate(model_name, classification_function, X_train, y_train, X_test, y_test, results_df, **kwargs):\n",
    "    # Train and test using TF representation\n",
    "    predictions_tf = classification_function(X_train, y_train, X_test, 'TF', **kwargs)\n",
    "    accuracy_tf = accuracy_score(y_test, predictions_tf)\n",
    "    confusion_matrix_tf = confusion_matrix(y_test, predictions_tf)\n",
    "    TPR_tf, FPR_tf = calculate_tpr_fpr(confusion_matrix_tf)\n",
    "    df_tf = pd.DataFrame({\n",
    "        'Model': [model_name + '_TF'],\n",
    "        'Accuracy': [accuracy_tf],\n",
    "        'TPR': [TPR_tf],\n",
    "        'FPR': [FPR_tf]\n",
    "    })\n",
    "\n",
    "    # Train and test using TF-IDF representation\n",
    "    predictions_tfidf = classification_function(X_train, y_train, X_test, 'TF-IDF', **kwargs)\n",
    "    accuracy_tfidf = accuracy_score(y_test, predictions_tfidf)\n",
    "    confusion_matrix_tfidf = confusion_matrix(y_test, predictions_tfidf)\n",
    "    TPR_tfidf, FPR_tfidf = calculate_tpr_fpr(confusion_matrix_tfidf)\n",
    "    df_tfidf = pd.DataFrame({\n",
    "        'Model': [model_name + '_TF-IDF'],\n",
    "        'Accuracy': [accuracy_tfidf],\n",
    "        'TPR': [TPR_tfidf],\n",
    "        'FPR': [FPR_tfidf]\n",
    "    })\n",
    "\n",
    "    # Concatenate dataframes and append to results_df\n",
    "    results_df = pd.concat([results_df, df_tf, df_tfidf], ignore_index=True)\n",
    "    \n",
    "    # Print performance metrics\n",
    "    print(f\"Performance metrics for {model_name} using TF representation:\")\n",
    "    print(\"Accuracy:\", accuracy_tf)\n",
    "    print(\"TPR:\", TPR_tf)\n",
    "    print(\"FPR:\", FPR_tf)\n",
    "\n",
    "    print(f\"\\nPerformance metrics for {model_name} using TF-IDF representation:\")\n",
    "    print(\"Accuracy:\", accuracy_tfidf)\n",
    "    print(\"TPR:\", TPR_tfidf)\n",
    "    print(\"FPR:\", FPR_tfidf)\n",
    "\n",
    "    return results_df"
   ]
  },
  {
   "cell_type": "code",
   "execution_count": 92,
   "metadata": {},
   "outputs": [
    {
     "name": "stdout",
     "output_type": "stream",
     "text": [
      "Performance metrics for NaiveBayes using TF representation:\n",
      "Accuracy: 0.765\n",
      "TPR: 0.7582938388625592\n",
      "FPR: 0.2275132275132275\n",
      "\n",
      "Performance metrics for NaiveBayes using TF-IDF representation:\n",
      "Accuracy: 0.75\n",
      "TPR: 0.6729857819905213\n",
      "FPR: 0.164021164021164\n"
     ]
    }
   ],
   "source": [
    "results_df = pd.DataFrame(columns=[\"Model\", \"Accuracy\", \"TPR\", \"FPR\"])\n",
    "results_df = train_evaluate('NaiveBayes', naive_bayes_classification, X_train, y_train, X_test, y_test, results_df)"
   ]
  },
  {
   "cell_type": "code",
   "execution_count": 93,
   "metadata": {},
   "outputs": [
    {
     "name": "stdout",
     "output_type": "stream",
     "text": [
      "Performance metrics for LogisticReg using TF representation:\n",
      "Accuracy: 0.81\n",
      "TPR: 0.7962085308056872\n",
      "FPR: 0.1746031746031746\n",
      "\n",
      "Performance metrics for LogisticReg using TF-IDF representation:\n",
      "Accuracy: 0.8175\n",
      "TPR: 0.8199052132701422\n",
      "FPR: 0.18518518518518517\n"
     ]
    }
   ],
   "source": [
    "results_df = train_evaluate('LogisticReg', logistic_regression, X_train, y_train, X_test, y_test, results_df)"
   ]
  },
  {
   "cell_type": "code",
   "execution_count": 94,
   "metadata": {},
   "outputs": [
    {
     "name": "stdout",
     "output_type": "stream",
     "text": [
      "Performance metrics for MLP_1 using TF representation:\n",
      "Accuracy: 0.8175\n",
      "TPR: 0.8056872037914692\n",
      "FPR: 0.1693121693121693\n",
      "\n",
      "Performance metrics for MLP_1 using TF-IDF representation:\n",
      "Accuracy: 0.8\n",
      "TPR: 0.8056872037914692\n",
      "FPR: 0.20634920634920634\n"
     ]
    }
   ],
   "source": [
    "results_df = train_evaluate(\"MLP_1\", mlp_classifier, X_train, y_train, X_test, y_test, results_df, kwargs={\"mlp_arch\": (100,), \"max_iter\": 500})"
   ]
  },
  {
   "cell_type": "code",
   "execution_count": 95,
   "metadata": {},
   "outputs": [
    {
     "name": "stdout",
     "output_type": "stream",
     "text": [
      "Performance metrics for MLP_2 using TF representation:\n",
      "Accuracy: 0.8125\n",
      "TPR: 0.8104265402843602\n",
      "FPR: 0.18518518518518517\n",
      "\n",
      "Performance metrics for MLP_2 using TF-IDF representation:\n",
      "Accuracy: 0.7875\n",
      "TPR: 0.8009478672985783\n",
      "FPR: 0.2275132275132275\n"
     ]
    }
   ],
   "source": [
    "results_df = train_evaluate(\"MLP_2\", mlp_classifier, X_train, y_train, X_test, y_test, results_df, kwargs={\"mlp_arch\": (50, 20), \"max_iter\": 500})"
   ]
  },
  {
   "cell_type": "code",
   "execution_count": 96,
   "metadata": {},
   "outputs": [
    {
     "name": "stdout",
     "output_type": "stream",
     "text": [
      "Performance metrics for MLP_3 using TF representation:\n",
      "Accuracy: 0.8175\n",
      "TPR: 0.8151658767772512\n",
      "FPR: 0.17989417989417988\n",
      "\n",
      "Performance metrics for MLP_3 using TF-IDF representation:\n",
      "Accuracy: 0.7975\n",
      "TPR: 0.7962085308056872\n",
      "FPR: 0.20105820105820105\n"
     ]
    }
   ],
   "source": [
    "results_df = train_evaluate(\"MLP_3\", mlp_classifier, X_train, y_train, X_test, y_test, results_df, kwargs={\"mlp_arch\": (100, 50, 20), \"max_iter\": 500})"
   ]
  },
  {
   "cell_type": "code",
   "execution_count": 97,
   "metadata": {},
   "outputs": [
    {
     "data": {
      "text/html": [
       "<div>\n",
       "<style scoped>\n",
       "    .dataframe tbody tr th:only-of-type {\n",
       "        vertical-align: middle;\n",
       "    }\n",
       "\n",
       "    .dataframe tbody tr th {\n",
       "        vertical-align: top;\n",
       "    }\n",
       "\n",
       "    .dataframe thead th {\n",
       "        text-align: right;\n",
       "    }\n",
       "</style>\n",
       "<table border=\"1\" class=\"dataframe\">\n",
       "  <thead>\n",
       "    <tr style=\"text-align: right;\">\n",
       "      <th></th>\n",
       "      <th>Model</th>\n",
       "      <th>Accuracy</th>\n",
       "      <th>TPR</th>\n",
       "      <th>FPR</th>\n",
       "    </tr>\n",
       "  </thead>\n",
       "  <tbody>\n",
       "    <tr>\n",
       "      <th>0</th>\n",
       "      <td>NaiveBayes_TF</td>\n",
       "      <td>0.7650</td>\n",
       "      <td>0.758294</td>\n",
       "      <td>0.227513</td>\n",
       "    </tr>\n",
       "    <tr>\n",
       "      <th>1</th>\n",
       "      <td>NaiveBayes_TF-IDF</td>\n",
       "      <td>0.7500</td>\n",
       "      <td>0.672986</td>\n",
       "      <td>0.164021</td>\n",
       "    </tr>\n",
       "    <tr>\n",
       "      <th>2</th>\n",
       "      <td>LogisticReg_TF</td>\n",
       "      <td>0.8100</td>\n",
       "      <td>0.796209</td>\n",
       "      <td>0.174603</td>\n",
       "    </tr>\n",
       "    <tr>\n",
       "      <th>3</th>\n",
       "      <td>LogisticReg_TF-IDF</td>\n",
       "      <td>0.8175</td>\n",
       "      <td>0.819905</td>\n",
       "      <td>0.185185</td>\n",
       "    </tr>\n",
       "    <tr>\n",
       "      <th>4</th>\n",
       "      <td>MLP_1_TF</td>\n",
       "      <td>0.8175</td>\n",
       "      <td>0.805687</td>\n",
       "      <td>0.169312</td>\n",
       "    </tr>\n",
       "    <tr>\n",
       "      <th>5</th>\n",
       "      <td>MLP_1_TF-IDF</td>\n",
       "      <td>0.8000</td>\n",
       "      <td>0.805687</td>\n",
       "      <td>0.206349</td>\n",
       "    </tr>\n",
       "    <tr>\n",
       "      <th>6</th>\n",
       "      <td>MLP_2_TF</td>\n",
       "      <td>0.8125</td>\n",
       "      <td>0.810427</td>\n",
       "      <td>0.185185</td>\n",
       "    </tr>\n",
       "    <tr>\n",
       "      <th>7</th>\n",
       "      <td>MLP_2_TF-IDF</td>\n",
       "      <td>0.7875</td>\n",
       "      <td>0.800948</td>\n",
       "      <td>0.227513</td>\n",
       "    </tr>\n",
       "    <tr>\n",
       "      <th>8</th>\n",
       "      <td>MLP_3_TF</td>\n",
       "      <td>0.8175</td>\n",
       "      <td>0.815166</td>\n",
       "      <td>0.179894</td>\n",
       "    </tr>\n",
       "    <tr>\n",
       "      <th>9</th>\n",
       "      <td>MLP_3_TF-IDF</td>\n",
       "      <td>0.7975</td>\n",
       "      <td>0.796209</td>\n",
       "      <td>0.201058</td>\n",
       "    </tr>\n",
       "  </tbody>\n",
       "</table>\n",
       "</div>"
      ],
      "text/plain": [
       "                Model  Accuracy       TPR       FPR\n",
       "0       NaiveBayes_TF    0.7650  0.758294  0.227513\n",
       "1   NaiveBayes_TF-IDF    0.7500  0.672986  0.164021\n",
       "2      LogisticReg_TF    0.8100  0.796209  0.174603\n",
       "3  LogisticReg_TF-IDF    0.8175  0.819905  0.185185\n",
       "4            MLP_1_TF    0.8175  0.805687  0.169312\n",
       "5        MLP_1_TF-IDF    0.8000  0.805687  0.206349\n",
       "6            MLP_2_TF    0.8125  0.810427  0.185185\n",
       "7        MLP_2_TF-IDF    0.7875  0.800948  0.227513\n",
       "8            MLP_3_TF    0.8175  0.815166  0.179894\n",
       "9        MLP_3_TF-IDF    0.7975  0.796209  0.201058"
      ]
     },
     "execution_count": 97,
     "metadata": {},
     "output_type": "execute_result"
    }
   ],
   "source": [
    "results_df"
   ]
  },
  {
   "cell_type": "markdown",
   "metadata": {},
   "source": [
    "### 5. Visualization and Analysis (2 marks):\n",
    "* Visualize the performance metrics (e.g., accuracy) for each algorithm using appropriate plots (e.g., bar chart).\n",
    "* Discuss any observed trends or differences in performance.\n"
   ]
  },
  {
   "cell_type": "code",
   "execution_count": 113,
   "metadata": {},
   "outputs": [
    {
     "data": {
      "image/png": "[encoded data removed]",
      "text/plain": [
       "<Figure size 1200x800 with 1 Axes>"
      ]
     },
     "metadata": {},
     "output_type": "display_data"
    }
   ],
   "source": [
    "# Create figure and axes\n",
    "fig, ax = plt.subplots(figsize=(12, 8))\n",
    "\n",
    "# Set color map\n",
    "colors = {'Accuracy': 'b', 'TPR': 'g', 'FPR': 'r'}\n",
    "\n",
    "# Get unique models\n",
    "models = results_df['Model'].unique()\n",
    "\n",
    "y_min = float('inf')\n",
    "y_max = float('-inf')\n",
    "\n",
    "# Set bar dimensions\n",
    "bar_width = 0.2\n",
    "num_metrics = 3\n",
    "bar_positions = np.arange(len(models))\n",
    "\n",
    "for i, model in enumerate(models):\n",
    "    model_df = results_df[results_df['Model'] == model]\n",
    "    metric_vals = model_df[['Accuracy', 'TPR', 'FPR']].values.flatten()\n",
    "    \n",
    "    # Plot bars for each metric\n",
    "    for j in range(num_metrics):\n",
    "        # Update y-axis limits\n",
    "        y_min = min(y_min, min(metric_vals[j::num_metrics]))\n",
    "        y_max = max(y_max, max(metric_vals[j::num_metrics]))\n",
    "\n",
    "# Set y-axis limits based on min and max values\n",
    "ax.set_ylim([y_min - 0.05, y_max + 0.05])\n",
    "\n",
    "# Plot bars for each metric\n",
    "for j, metric in enumerate(['Accuracy', 'TPR', 'FPR']):\n",
    "    values = results_df[metric].values\n",
    "    ax.bar(bar_positions + j * bar_width - (num_metrics * bar_width) / 2, values, width=bar_width, color=colors[metric], label=metric)\n",
    "\n",
    "# Add values on bar tips\n",
    "for i, model in enumerate(models):\n",
    "    model_df = results_df[results_df['Model'] == model]\n",
    "    metric_vals = model_df[['Accuracy', 'TPR', 'FPR']].values.flatten()\n",
    "    \n",
    "    # Add values on bar tips\n",
    "    for j, value in enumerate(metric_vals):\n",
    "        ax.text(bar_positions[i] + j * bar_width - bar_width*1.5, value, f'{value:.2f}', ha='center', va='bottom')\n",
    "\n",
    "\n",
    "# Set labels and title\n",
    "ax.set_xticks(bar_positions)\n",
    "ax.set_xticklabels(models, rotation=45)\n",
    "ax.set_ylabel('Scores')\n",
    "ax.set_xlabel('Models')\n",
    "ax.set_title('Performance Metrics by Model and Representation')\n",
    "\n",
    "# # Add legend\n",
    "# handles, labels = ax.get_legend_handles_labels()\n",
    "# ax.legend(handles, labels, loc='lower right')\n",
    "legend_handles = [plt.Rectangle((0,0),1,1, color=color) for metric, color in colors.items()]\n",
    "legend_labels = list(colors.keys())\n",
    "ax.legend(legend_handles, legend_labels, loc='best')\n",
    "\n",
    "# Show plot\n",
    "plt.tight_layout()\n",
    "plt.show()\n"
   ]
  },
  {
   "cell_type": "markdown",
   "metadata": {},
   "source": [
    "#### Observed Trends and Differences in Performance:\n",
    "\n",
    "* **Accuracy Trends** :\n",
    "   - Logistic Regression consistently performs well, with both TF and TF-IDF representations yielding high accuracies.\n",
    "   - Naive Bayes also performs decently, but with slightly lower accuracies compared to Logistic Regression.\n",
    "   - MLP shows varying performance across different configurations, but generally achieves competitive accuracies. \n",
    "\n",
    "* **True Positive Rate (TPR)** :\n",
    "  - Logistic Regression consistently exhibits high TPR values, indicating its effectiveness in correctly identifying positive sentiment.\n",
    "  - MLP also shows competitive TPR values, especially for certain configurations.\n",
    "  - Naive Bayes tends to have lower TPR values compared to the other algorithms, especially noticeable in the TF-IDF representation.\n",
    "\n",
    "\n",
    "* **False Positive Rate (FPR)** :\n",
    "  - Naive Bayes exhibits higher FPR values across both TF and TF-IDF representations, indicating a tendency to incorrectly classify negative instances as positive.\n",
    "  - Logistic Regression and MLP generally have lower FPR values, suggesting better precision in distinguishing negative instances.\n"
   ]
  },
  {
   "cell_type": "markdown",
   "metadata": {},
   "source": [
    "### 6. Discussion (3 marks):\n",
    "* Compare and analyze the results obtained by the three algorithms.\n",
    "* Discuss the impact of using TF vs. TF-IDF on classification performance.\n",
    "* Provide insights into the strengths and limitations of each algorithm in the context of sentiment analysis."
   ]
  },
  {
   "cell_type": "markdown",
   "metadata": {},
   "source": [
    "#### Comparison and Analysis of Algorithm Results:\n",
    "\n",
    "1. **Naive Bayes**:\n",
    "   - Performs reasonably well but tends to have lower TPR and higher FPR compared to Logistic Regression and MLP.\n",
    "   - Simple and efficient, making it suitable for large datasets.\n",
    "   - However, it assumes independence among features, which may not hold true for natural language, impacting performance.\n",
    "\n",
    "2. **Logistic Regression**:\n",
    "   - Shows consistently high performance across both TF and TF-IDF representations.\n",
    "   - Effective in modeling linear relationships between features and target variable.\n",
    "   - May suffer from overfitting if the feature space is large or if there are too many irrelevant features.\n",
    "\n",
    "3. **Multilayer Perceptron (MLP)**:\n",
    "   - Exhibits competitive performance, especially with certain configurations.\n",
    "   - Can capture complex non-linear relationships in the data, potentially improving performance.\n",
    "   - Requires careful tuning of hyperparameters and may be computationally expensive, especially with large datasets."
   ]
  },
  {
   "cell_type": "markdown",
   "metadata": {},
   "source": [
    "#### Impact of TF vs. TF-IDF on Classification Performance:\n",
    "\n",
    "* **TF Representation**:\n",
    "  - Generally yields lower accuracies compared to TF-IDF, especially for Naive Bayes.\n",
    "  - May be susceptible to the influence of frequent but less informative words (e.g., stopwords), affecting model performance.\n",
    "\n",
    "* **TF-IDF Representation**:\n",
    "\n",
    "  - Tends to improve classification performance, particularly for algorithms like Naive Bayes.\n",
    "  - Accounts for the importance of words in the corpus by weighing down frequent but less discriminative terms.\n",
    "  - Offers better generalization by reducing the impact of common words that may not contribute significantly to sentiment classification.\n"
   ]
  },
  {
   "cell_type": "markdown",
   "metadata": {},
   "source": [
    "#### Strengths and Limitations of Each Algorithm:\n",
    "\n",
    "* **Naive Bayes**:\n",
    "\n",
    "- *Strengths*: Simple, fast, and easy to implement. Handles large datasets well.\n",
    "- *Limitations*: Relies on the assumption of feature independence, which may not hold true for text data. Limited ability to capture complex relationships.\n",
    "\n",
    "* **Logistic Regression**:\n",
    "\n",
    "- *Strengths*: Robust, interpretable, and performs well with linearly separable data.\n",
    "- *Limitations*: Assumes linear relationship between features and target variable, may not capture non-linear patterns effectively without feature engineering.\n",
    "\n",
    "* **Multilayer Perceptron (MLP)**:\n",
    "\n",
    "- *Strengths*: Can capture complex non-linear relationships, making it suitable for tasks with intricate patterns.\n",
    "- *Limitations*: Requires careful tuning of hyperparameters, susceptible to overfitting, and computationally expensive, especially with large datasets.\n"
   ]
  }
 ],
 "metadata": {
  "kernelspec": {
   "display_name": "Python 3",
   "language": "python",
   "name": "python3"
  },
  "language_info": {
   "codemirror_mode": {
    "name": "ipython",
    "version": 3
   },
   "file_extension": ".py",
   "mimetype": "text/x-python",
   "name": "python",
   "nbconvert_exporter": "python",
   "pygments_lexer": "ipython3",
   "version": "3.9.6"
  }
 },
 "nbformat": 4,
 "nbformat_minor": 2
}
