{
  "cells": [
    {
      "cell_type": "markdown",
      "metadata": {
        "id": "ni4T_dwEHFVa"
      },
      "source": [
        "## CS 6120: Natural Language Processing - Prof. Ahmad Uzair\n",
        "\n",
        "### Assignment 2: Text Classification and Neural Network\n",
        "### Total Points: 100 points"
      ]
    },
    {
      "cell_type": "markdown",
      "metadata": {
        "id": "loQ22M-bCubq"
      },
      "source": [
        "In Assignment 2, you will be dealing with text classification using Multinomial Naive Bayes and Neural Networks. You will also be dealing with vector visualization.In this assignment you will be using TF-IDF Vectorization instead of Bag of Words. We recommend starting with this assignment a little early as the datasets are quite large and several parts of the assignment might take long duration to execute."
      ]
    },
    {
      "cell_type": "markdown",
      "metadata": {
        "id": "Q3brglC1C0mZ"
      },
      "source": [
        "## Question 1 Text Classification"
      ]
    },
    {
      "cell_type": "markdown",
      "metadata": {
        "id": "IZ1y75IoC3rE"
      },
      "source": [
        "In the first question you will be dealing with 20 News Group Dataset. You are required to implement TF-IDF vectorization from scratch and perform Multinomial Naive Bayes Classification on the News Group Dataset.\n",
        "You may use appropriate packages or modules for fitting the Multinomial Naive Bayes Model, however, the implementation of the TF-IDF Vectorization should be from the scratch."
      ]
    },
    {
      "cell_type": "markdown",
      "metadata": {
        "id": "yRjM45PyC8ML"
      },
      "source": [
        "The 20 newsgroups dataset comprises around 20000 newsgroups posts on 20 topics split in two subsets: one for training (or development) and the other one for testing (or for performance evaluation). The split between the train and test set is based upon a messages posted before and after a specific date.\n",
        "\n",
        "Link to the original dataset: http://archive.ics.uci.edu/ml/datasets/Twenty+Newsgroups\n",
        "\n",
        "You can also import the dataset from sklearn.datasets"
      ]
    },
    {
      "cell_type": "code",
      "execution_count": 1,
      "metadata": {
        "colab": {
          "base_uri": "https://localhost:8080/"
        },
        "id": "CmFf2INNDJRb",
        "outputId": "c86484ef-beea-4596-b330-83b67748f78b"
      },
      "outputs": [
        {
          "name": "stderr",
          "output_type": "stream",
          "text": [
            "[nltk_data] Downloading package stopwords to /root/nltk_data...\n",
            "[nltk_data]   Unzipping corpora/stopwords.zip.\n",
            "[nltk_data] Downloading package punkt to /root/nltk_data...\n",
            "[nltk_data]   Unzipping tokenizers/punkt.zip.\n",
            "[nltk_data] Downloading package wordnet to /root/nltk_data...\n"
          ]
        }
      ],
      "source": [
        "#importing the libraries\n",
        "\n",
        "import numpy as np\n",
        "import sklearn\n",
        "from sklearn.feature_extraction.text import TfidfVectorizer\n",
        "from sklearn.datasets import fetch_20newsgroups\n",
        "from pprint import pprint\n",
        "from sklearn.feature_extraction.text import CountVectorizer\n",
        "from sklearn import preprocessing\n",
        "import pandas as pd\n",
        "import re\n",
        "import numpy as np\n",
        "from nltk.tokenize import  word_tokenize\n",
        "import nltk\n",
        "from sklearn.naive_bayes import MultinomialNB\n",
        "from sklearn import metrics\n",
        "\n",
        "nltk.download('stopwords')\n",
        "nltk.download('punkt')\n",
        "nltk.download('wordnet')\n",
        "from nltk.corpus import stopwords\n",
        "from nltk.stem import PorterStemmer\n",
        "from nltk.tokenize import word_tokenize, RegexpTokenizer\n",
        "import warnings\n",
        "from sklearn.model_selection import train_test_split\n",
        "import seaborn as sns\n",
        "import matplotlib.pyplot as plt\n",
        "from sklearn.metrics import confusion_matrix, accuracy_score, f1_score\n",
        "warnings.filterwarnings(\"ignore\")\n",
        "from collections import OrderedDict"
      ]
    },
    {
      "cell_type": "code",
      "execution_count": null,
      "metadata": {
        "id": "AEp1SHe5DKCB"
      },
      "outputs": [],
      "source": [
        "# Import the 20 news group dataset utilizing sklearn library\n",
        "\n",
        "mydata_train = fetch_20newsgroups(subset='train')\n",
        "\n",
        "mydata_test = fetch_20newsgroups(subset='test')\n"
      ]
    },
    {
      "cell_type": "code",
      "execution_count": null,
      "metadata": {
        "colab": {
          "base_uri": "https://localhost:8080/"
        },
        "id": "OscOmcE0DMHa",
        "outputId": "5817140d-fe27-4883-c570-f63579d7caaa"
      },
      "outputs": [
        {
          "name": "stdout",
          "output_type": "stream",
          "text": [
            "['alt.atheism',\n",
            " 'comp.graphics',\n",
            " 'comp.os.ms-windows.misc',\n",
            " 'comp.sys.ibm.pc.hardware',\n",
            " 'comp.sys.mac.hardware',\n",
            " 'comp.windows.x',\n",
            " 'misc.forsale',\n",
            " 'rec.autos',\n",
            " 'rec.motorcycles',\n",
            " 'rec.sport.baseball',\n",
            " 'rec.sport.hockey',\n",
            " 'sci.crypt',\n",
            " 'sci.electronics',\n",
            " 'sci.med',\n",
            " 'sci.space',\n",
            " 'soc.religion.christian',\n",
            " 'talk.politics.guns',\n",
            " 'talk.politics.mideast',\n",
            " 'talk.politics.misc',\n",
            " 'talk.religion.misc']\n"
          ]
        }
      ],
      "source": [
        "# Print the news groups(target) in the dataset\n",
        "\n",
        "pprint(list(mydata_train.target_names))"
      ]
    },
    {
      "cell_type": "code",
      "execution_count": null,
      "metadata": {
        "colab": {
          "base_uri": "https://localhost:8080/"
        },
        "id": "JvQb2r0aDR_J",
        "outputId": "1ca5e4fa-22b8-4d2d-900f-ca5fc6cf84bb"
      },
      "outputs": [
        {
          "name": "stdout",
          "output_type": "stream",
          "text": [
            "<class 'sklearn.utils._bunch.Bunch'>\n",
            "<class 'sklearn.utils._bunch.Bunch'>\n"
          ]
        }
      ],
      "source": [
        "# What is the type of 'mydata_train' and 'mydata_test'\n",
        "\n",
        "print(type(mydata_train))\n",
        "print(type(mydata_test))"
      ]
    },
    {
      "cell_type": "code",
      "execution_count": null,
      "metadata": {
        "colab": {
          "base_uri": "https://localhost:8080/"
        },
        "id": "ozzwyREhDaMK",
        "outputId": "79d5fa6a-dcb0-4336-c606-d49f7fafa1bf"
      },
      "outputs": [
        {
          "name": "stdout",
          "output_type": "stream",
          "text": [
            "11314\n",
            "11314\n",
            "7532\n",
            "7532\n"
          ]
        }
      ],
      "source": [
        "# Check the length of the data\n",
        "\n",
        "print(len(mydata_train.data))\n",
        "print(len(mydata_train.filenames))\n",
        "print(len(mydata_test.data))\n",
        "print(len(mydata_test.filenames))"
      ]
    },
    {
      "cell_type": "markdown",
      "metadata": {
        "id": "BlipMuEpDz-K"
      },
      "source": [
        "### Expected Output:\n",
        "11314\n",
        "\n",
        "11314\n",
        "\n",
        "7532\n",
        "\n",
        "7532"
      ]
    },
    {
      "cell_type": "markdown",
      "metadata": {
        "id": "55FKOBBuEDI2"
      },
      "source": [
        "## Extracting Features from the Dataset                        (20 Points)"
      ]
    },
    {
      "cell_type": "markdown",
      "metadata": {
        "id": "u4GDENzmEEkG"
      },
      "source": [
        "In order to perform machine learning on text documents, we first need to turn the text content into numerical feature vectors."
      ]
    },
    {
      "cell_type": "markdown",
      "metadata": {
        "id": "OgxfDXmxEHid"
      },
      "source": [
        "### TF-IDF Vectorization"
      ]
    },
    {
      "cell_type": "markdown",
      "metadata": {
        "id": "Q8qNFFYyEKsa"
      },
      "source": [
        "Our model cannot simply read the text data so we convert it into numerical format. In order to convert the data into numerical format we create vectors from text.\n",
        "\n",
        "For this particular purpose we could either employ Bag of Words or TF-IDF Vectorization\n",
        "\n",
        "Bag of Words just creates a set of vectors containing the count of word occurrences in the document (reviews), while the TF-IDF model contains information on the more important words and the less important ones as well.\n",
        "\n",
        "TF-IDF stands for Term Frequency-Inverse Document Frequency, which instead of giving more weight to words that occur more frequently, it gives a higher weight to words that occur less frequently.\n",
        "\n",
        "Ref:https://www.analyticsvidhya.com/blog/2020/02/quick-introduction-bag-of-words-bow-tf-idf/#:~:text=Bag%20of%20Words%20just%20creates,less%20important%20ones%20as%20well."
      ]
    },
    {
      "cell_type": "markdown",
      "metadata": {
        "id": "dLzgRJRZEP3k"
      },
      "source": [
        "TF-IDF = Term Frequency (TF) * Inverse Document Frequency (IDF)"
      ]
    },
    {
      "cell_type": "markdown",
      "metadata": {
        "id": "xe5lHi3NE1QJ"
      },
      "source": [
        "Term Frequency is the measure of the frequency of words in a document. It is the ratio of the number of times the word appears in a document compared to the total number of words in that document.\n",
        "\n",
        "The words that occur rarely in the corpus have a high IDF score. It is the log of the ratio of the number of documents to the number of documents containing the word."
      ]
    },
    {
      "cell_type": "markdown",
      "metadata": {
        "id": "HXotAER_EQ8T"
      },
      "source": [
        "idf(t) = log(N/(df + 1))"
      ]
    },
    {
      "cell_type": "code",
      "execution_count": null,
      "metadata": {
        "id": "2vzVI8ylFAEl"
      },
      "outputs": [],
      "source": [
        "text = mydata_train.data\n",
        "test = mydata_test.data"
      ]
    },
    {
      "cell_type": "markdown",
      "metadata": {
        "id": "HZ2AatmvFtE-"
      },
      "source": [
        "## Preprocessing the Corpus"
      ]
    },
    {
      "cell_type": "code",
      "execution_count": null,
      "metadata": {
        "id": "XyJbe42AFuHp"
      },
      "outputs": [],
      "source": [
        "# Preprocessing the data\n",
        "\n",
        "lines = []\n",
        "word_list = []\n",
        "\n",
        "# Removing HTML patterns like <br />\n",
        "html_pattern = re.compile('<.*?>')\n",
        "\n",
        "# Removing url's if any in the code\n",
        "url_pattern = re.compile(r'https?://\\S+|www\\.\\S+')\n",
        "\n",
        "# List of stop words\n",
        "stop_words = set(stopwords.words('english'))\n",
        "\n",
        "for line in text:\n",
        "    #tokenize the text documents and update the lists word_list and lines\n",
        "    review_cleaned = html_pattern.sub(r'', line)\n",
        "\n",
        "    review_cleaned = url_pattern.sub(r'', review_cleaned)\n",
        "\n",
        "    x = [i.lower() for  i in word_tokenize(review_cleaned) if i.isalpha() and i not in stop_words]\n",
        "    lines.append(x)\n",
        "    for word in x:\n",
        "        if word not in word_list:\n",
        "            word_list.append(word)\n",
        "\n",
        "# Make sure the word_list contains unique tokens\n",
        "word_list = set(word_list)\n",
        "\n",
        "# Calculate the total documents present in the corpus\n",
        "total_docs = len(lines)\n",
        "\n",
        "#Create a dictionary to keep track of index of each word\n",
        "dict_idx = {} #Dictionary to store index for each word\n",
        "i = 0\n",
        "for word in word_list:\n",
        "    dict_idx[word] = i\n",
        "    i += 1\n"
      ]
    },
    {
      "cell_type": "code",
      "execution_count": null,
      "metadata": {
        "id": "E6M_CoI9FxYb"
      },
      "outputs": [],
      "source": [
        "# Create a frequency dictionary\n",
        "\n",
        "def frequency_dict(lines):\n",
        "    '''\n",
        "    lines: list containing all the tokens\n",
        "    ---\n",
        "    freq_word: returns a dictionary which keeps the count of the number of documents containing the given word\n",
        "    '''\n",
        "    freq_word = {}\n",
        "    for word in word_list:\n",
        "        freq_word[word] = 0\n",
        "        for sent in lines:\n",
        "            if word in sent:\n",
        "                freq_word[word] += 1\n",
        "\n",
        "    return freq_word"
      ]
    },
    {
      "cell_type": "code",
      "execution_count": null,
      "metadata": {
        "colab": {
          "base_uri": "https://localhost:8080/"
        },
        "id": "qFkt9KBgFz43",
        "outputId": "cb2c55ca-2f33-4108-8b1e-ff65612a01ca"
      },
      "outputs": [
        {
          "data": {
            "text/plain": [
              "{'desj': 1,\n",
              " 'gh': 8,\n",
              " 'timo': 8,\n",
              " 'oakland': 56,\n",
              " 'describe': 105,\n",
              " 'inroads': 2,\n",
              " 'ciccarelli': 9,\n",
              " 'beleivin': 1,\n",
              " 'naughty': 4,\n",
              " 'pric': 1,\n",
              " 'fnald': 2,\n",
              " 'rusinow': 1,\n",
              " 'keith': 264,\n",
              " 'retry': 4,\n",
              " 'vwelch': 1,\n",
              " 'ineffectiveness': 1,\n",
              " 'ressurrections': 1,\n",
              " 'exor': 1,\n",
              " 'licks': 2,\n",
              " 'arrow': 15,\n",
              " 'sheds': 1,\n",
              " 'mtz': 2,\n",
              " 'fats': 1,\n",
              " 'zanussi': 1,\n",
              " 'shades': 12,\n",
              " 'satified': 1,\n",
              " 'goners': 1,\n",
              " 'dialup': 6,\n",
              " 'energized': 1,\n",
              " 'cianfrocco': 1,\n",
              " 'martyriologia': 1,\n",
              " 'witchtrap': 1,\n",
              " 'prupose': 2,\n",
              " 'eeq': 1,\n",
              " 'dissipates': 2,\n",
              " 'kotnml': 2,\n",
              " 'creatio': 1,\n",
              " 'array': 39,\n",
              " 'imbibed': 1,\n",
              " 'approximate': 19,\n",
              " 'ahatcher': 2,\n",
              " 'enteric': 1,\n",
              " 'responsibilty': 3,\n",
              " 'unselfish': 2,\n",
              " 'kovalev': 15,\n",
              " 'chandler': 6,\n",
              " 'yoking': 1,\n",
              " 'qbqsrmm': 1,\n",
              " 'shari': 1,\n",
              " 'aggresive': 1,\n",
              " 'validation': 5,\n",
              " 'db': 32,\n",
              " 'inspire': 6,\n",
              " 'andoya': 1,\n",
              " 'ingles': 7,\n",
              " 'planitia': 1,\n",
              " 'agnew': 1,\n",
              " 'matt': 70,\n",
              " 'gatt': 2,\n",
              " 'whjjm': 3,\n",
              " 'consistent': 98,\n",
              " 'farwell': 3,\n",
              " 'evade': 9,\n",
              " 'inundate': 1,\n",
              " 'paramedic': 2,\n",
              " 'swine': 1,\n",
              " 'theft': 21,\n",
              " 'intifadah': 1,\n",
              " 'sartre': 4,\n",
              " 'multiverse': 5,\n",
              " 'notkins': 1,\n",
              " 'disobeyed': 2,\n",
              " 'homoousios': 1,\n",
              " 'cabammerxorns': 1,\n",
              " 'humbles': 1,\n",
              " 'watercooled': 1,\n",
              " 'incentives': 13,\n",
              " 'begin': 171,\n",
              " 'honours': 3,\n",
              " 'delirious': 1,\n",
              " 'nautilus': 2,\n",
              " 'dingy': 1,\n",
              " 'reputations': 13,\n",
              " 'barbara': 24,\n",
              " 'ivanhoe': 1,\n",
              " 'neish': 1,\n",
              " 'mneideng': 1,\n",
              " 'unprintable': 1,\n",
              " 'necessarilly': 4,\n",
              " 'expire': 7,\n",
              " 'enclave': 9,\n",
              " 'cosmological': 4,\n",
              " 'plead': 4,\n",
              " 'footnoted': 2,\n",
              " 'unmesh': 1,\n",
              " 'idolatry': 2,\n",
              " 'gassanov': 1,\n",
              " 'run': 791,\n",
              " 'whit': 18,\n",
              " 'devoured': 1,\n",
              " 'kolonia': 2,\n",
              " 'srscnslt': 1,\n",
              " 'hoinkes': 1,\n",
              " 'merrimanov': 1,\n",
              " 'cormierj': 1,\n",
              " 'hose': 11,\n",
              " 'tzs': 14,\n",
              " 'mittleman': 1,\n",
              " 'anuster': 1,\n",
              " 'mnbq': 1,\n",
              " 'leei': 2,\n",
              " 'kega': 1,\n",
              " 'davidian': 64,\n",
              " 'ingerle': 1,\n",
              " 'sixteen': 12,\n",
              " 'magnus': 12,\n",
              " 'siegers': 1,\n",
              " 'ho': 30,\n",
              " 'cryptic': 5,\n",
              " 'compiling': 30,\n",
              " 'pretzels': 1,\n",
              " 'syllabub': 2,\n",
              " 'aroused': 1,\n",
              " 'iscariot': 1,\n",
              " 'palestinenans': 1,\n",
              " 'schools': 77,\n",
              " 'spurious': 7,\n",
              " 'parlors': 2,\n",
              " 'xrecplay': 1,\n",
              " 'neside': 2,\n",
              " 'ftw': 1,\n",
              " 'triggering': 3,\n",
              " 'arpa': 14,\n",
              " 'yjoy': 1,\n",
              " 'mqe': 2,\n",
              " 'fuentez': 1,\n",
              " 'souls': 34,\n",
              " 'kendigianism': 1,\n",
              " 'unnerving': 1,\n",
              " 'overdo': 4,\n",
              " 'narenda': 1,\n",
              " 'holton': 1,\n",
              " 'hua': 7,\n",
              " 'aipsmail': 1,\n",
              " 'psalmist': 2,\n",
              " 'taryn': 1,\n",
              " 'mondros': 1,\n",
              " 'underdogs': 4,\n",
              " 'xmstringcreateltor': 1,\n",
              " 'bunis': 7,\n",
              " 'maximas': 1,\n",
              " 'nizam': 1,\n",
              " 'telethon': 1,\n",
              " 'asterisks': 3,\n",
              " 'rtaraz': 1,\n",
              " 'omen': 5,\n",
              " 'reigning': 2,\n",
              " 'speulate': 1,\n",
              " 'asher': 1,\n",
              " 'kudelski': 3,\n",
              " 'tittle': 3,\n",
              " 'impasse': 7,\n",
              " 'zuok': 1,\n",
              " 'maraldo': 2,\n",
              " 'chelsea': 4,\n",
              " 'babes': 8,\n",
              " 'unbidden': 1,\n",
              " 'dances': 12,\n",
              " 'ddc': 1,\n",
              " 'montaocean': 1,\n",
              " 'named': 98,\n",
              " 'ajrnair': 1,\n",
              " 'niman': 1,\n",
              " 'covingtontelephone': 1,\n",
              " 'tdarugar': 1,\n",
              " 'component': 50,\n",
              " 'sojo': 1,\n",
              " 'ruegg': 2,\n",
              " 'pected': 1,\n",
              " 'kxuh': 1,\n",
              " 'syrian': 20,\n",
              " 'deze': 2,\n",
              " 'adhere': 9,\n",
              " 'zone': 86,\n",
              " 'immuno': 1,\n",
              " 'hba': 1,\n",
              " 'rrg': 2,\n",
              " 'sterrenkundige': 1,\n",
              " 'patriots': 7,\n",
              " 'rws': 2,\n",
              " 'spycatcher': 1,\n",
              " 'bose': 3,\n",
              " 'birthday': 20,\n",
              " 'wellorganized': 1,\n",
              " 'syk': 1,\n",
              " 'hydroxyl': 1,\n",
              " 'circularize': 1,\n",
              " 'berendinus': 1,\n",
              " 'painless': 15,\n",
              " 'reserve': 222,\n",
              " 'hh': 8,\n",
              " 'mergehu': 1,\n",
              " 'sdrc': 1,\n",
              " 'viacheslav': 1,\n",
              " 'htze': 1,\n",
              " 'auditorium': 6,\n",
              " 'levenson': 1,\n",
              " 'vaughhn': 1,\n",
              " 'attractive': 35,\n",
              " 'generalized': 7,\n",
              " 'session': 87,\n",
              " 'formeza': 2,\n",
              " 'strand': 1,\n",
              " 'penny': 8,\n",
              " 'juhana': 4,\n",
              " 'burp': 1,\n",
              " 'scopemeter': 1,\n",
              " 'supination': 1,\n",
              " 'eleminates': 1,\n",
              " 'openwindow': 2,\n",
              " 'disrupted': 2,\n",
              " 'keaggy': 2,\n",
              " 'rising': 22,\n",
              " 'imd': 1,\n",
              " 'neuroticism': 1,\n",
              " 'extensive': 60,\n",
              " 'ijhr': 1,\n",
              " 'abboud': 1,\n",
              " 'preyground': 1,\n",
              " 'nagasiva': 11,\n",
              " 'rotfl': 2,\n",
              " 'decoupled': 1,\n",
              " 'rinse': 1,\n",
              " 'tct': 2,\n",
              " 'lauch': 1,\n",
              " 'hasy': 2,\n",
              " 'masada': 7,\n",
              " 'sprinting': 1,\n",
              " 'resonators': 1,\n",
              " 'theta': 3,\n",
              " 'exemptions': 2,\n",
              " 'whitsen': 1,\n",
              " 'mze': 1,\n",
              " 'scarf': 4,\n",
              " 'dsblack': 1,\n",
              " 'afflict': 2,\n",
              " 'kev': 4,\n",
              " 'ridder': 3,\n",
              " 'butte': 2,\n",
              " 'robotech': 2,\n",
              " 'xxxxx': 5,\n",
              " 'schell': 3,\n",
              " 'zai': 4,\n",
              " 'motorcyclists': 13,\n",
              " 'amour': 2,\n",
              " 'linered': 2,\n",
              " 'pratt': 4,\n",
              " 'hollowed': 2,\n",
              " 'ordanary': 1,\n",
              " 'now': 795,\n",
              " 'expencive': 3,\n",
              " 'vatanseverlere': 1,\n",
              " 'sorrento': 2,\n",
              " 'mandy': 1,\n",
              " 'irish': 13,\n",
              " 'groping': 5,\n",
              " 'xcolor': 3,\n",
              " 'croppers': 1,\n",
              " 'tuition': 10,\n",
              " 'russpj': 1,\n",
              " 'far': 950,\n",
              " 'enquiries': 8,\n",
              " 'mussack': 10,\n",
              " 'analysed': 3,\n",
              " 'xour': 2,\n",
              " 'jdnicoll': 8,\n",
              " 'cmsc': 1,\n",
              " 'kuril': 1,\n",
              " 'rchzrchzrchzv': 1,\n",
              " 'transistor': 16,\n",
              " 'lgu': 1,\n",
              " 'don': 117,\n",
              " 'gasping': 1,\n",
              " 'strengthens': 4,\n",
              " 'critique': 12,\n",
              " 'ulrich': 8,\n",
              " 'rauser': 16,\n",
              " 'nax': 3,\n",
              " 'morales': 1,\n",
              " 'logarithm': 1,\n",
              " 'knesset': 5,\n",
              " 'dpoole': 1,\n",
              " 'chiles': 1,\n",
              " 'jyang': 2,\n",
              " 'uniplex': 1,\n",
              " 'leg': 44,\n",
              " 'reaper': 2,\n",
              " 'gore': 35,\n",
              " 'uoc': 3,\n",
              " 'fullview': 2,\n",
              " 'romex': 3,\n",
              " 'disagreement': 23,\n",
              " 'bush': 117,\n",
              " 'olympuck': 1,\n",
              " 'nurnberg': 1,\n",
              " 'jaleco': 1,\n",
              " 'stauber': 5,\n",
              " 'untraceable': 4,\n",
              " 'tampian': 2,\n",
              " 'zara': 1,\n",
              " 'garner': 8,\n",
              " 'blaise': 9,\n",
              " 'zeppos': 3,\n",
              " 'contemporaries': 8,\n",
              " 'idol': 3,\n",
              " 'spearheaded': 1,\n",
              " 'ctd': 1,\n",
              " 'aligns': 2,\n",
              " 'perkovic': 1,\n",
              " 'comparatively': 10,\n",
              " 'odiselidze': 2,\n",
              " 'ove': 2,\n",
              " 'uc': 28,\n",
              " 'laparoscope': 1,\n",
              " 'nikolayevich': 1,\n",
              " 'tyrant': 11,\n",
              " 'gunpowder': 5,\n",
              " 'spectator': 7,\n",
              " 'purifying': 3,\n",
              " 'umass': 8,\n",
              " 'wires': 38,\n",
              " 'raveling': 2,\n",
              " 'censored': 2,\n",
              " 'chermak': 1,\n",
              " 'difficaltis': 1,\n",
              " 'bobs': 4,\n",
              " 'phonecord': 1,\n",
              " 'rites': 11,\n",
              " 'disarm': 11,\n",
              " 'bench': 42,\n",
              " 'experience': 440,\n",
              " 'scapegoats': 2,\n",
              " 'ncsu': 15,\n",
              " 'unalienable': 3,\n",
              " 'buttplate': 1,\n",
              " 'pzszb': 1,\n",
              " 'mnptmat': 1,\n",
              " 'crazier': 1,\n",
              " 'transferrable': 3,\n",
              " 'estimator': 1,\n",
              " 'ctrlaltdel': 3,\n",
              " 'laserdisc': 5,\n",
              " 'jem': 2,\n",
              " 'gears': 18,\n",
              " 'icoons': 1,\n",
              " 'butt': 39,\n",
              " 'negated': 3,\n",
              " 'sumarikis': 1,\n",
              " 'scheim': 1,\n",
              " 'chromium': 7,\n",
              " 'perfectionist': 3,\n",
              " 'endeavours': 3,\n",
              " 'filip': 3,\n",
              " 'demonstrations': 9,\n",
              " 'conflicts': 42,\n",
              " 'gixi': 1,\n",
              " 'gravitacional': 2,\n",
              " 'briefing': 19,\n",
              " 'feldtmann': 1,\n",
              " 'rrrrrrr': 1,\n",
              " 'ipq': 1,\n",
              " 'cormier': 1,\n",
              " 'accelarator': 1,\n",
              " 'fad': 3,\n",
              " 'charity': 27,\n",
              " 'vesture': 1,\n",
              " 'airlajz': 1,\n",
              " 'stockfisch': 1,\n",
              " 'particular': 379,\n",
              " 'sanctity': 3,\n",
              " 'wire': 77,\n",
              " 'filled': 82,\n",
              " 'wordings': 1,\n",
              " 'sincerly': 4,\n",
              " 'swc': 3,\n",
              " 'jdmooney': 1,\n",
              " 'refrained': 5,\n",
              " 'unkind': 1,\n",
              " 'irc': 7,\n",
              " 'integrating': 8,\n",
              " 'bgrahame': 1,\n",
              " 'foes': 6,\n",
              " 'flammable': 4,\n",
              " 'lightly': 23,\n",
              " 'replaceable': 1,\n",
              " 'developement': 2,\n",
              " 'nguen': 1,\n",
              " 'emancipator': 1,\n",
              " 'cimill': 1,\n",
              " 'fallacious': 9,\n",
              " 'alleged': 45,\n",
              " 'alocohol': 1,\n",
              " 'libyan': 2,\n",
              " 'xlh': 2,\n",
              " 'mapper': 2,\n",
              " 'pahlavi': 1,\n",
              " 'marcl': 2,\n",
              " 'spied': 5,\n",
              " 'disintegrate': 1,\n",
              " 'staining': 1,\n",
              " 'admicj': 1,\n",
              " 'snes': 8,\n",
              " 'unwilling': 23,\n",
              " 'christianization': 1,\n",
              " 'redirection': 3,\n",
              " 'tlink': 2,\n",
              " 'xstorecolors': 4,\n",
              " 'pelosi': 1,\n",
              " 'unrighteousness': 1,\n",
              " 'grisch': 1,\n",
              " 'bronsart': 3,\n",
              " 'thoughts': 151,\n",
              " 'fregosi': 5,\n",
              " 'unenlightened': 1,\n",
              " 'arrowhead': 1,\n",
              " 'predominant': 5,\n",
              " 'solberg': 2,\n",
              " 'disorderly': 1,\n",
              " 'giggle': 3,\n",
              " 'templates': 5,\n",
              " 'harlots': 2,\n",
              " 'luparas': 1,\n",
              " 'casino': 1,\n",
              " 'shakala': 3,\n",
              " 'captivity': 3,\n",
              " 'encoder': 3,\n",
              " 'chs': 1,\n",
              " 'gershoff': 1,\n",
              " 'nss': 3,\n",
              " 'briefly': 33,\n",
              " 'ideals': 18,\n",
              " 'palettable': 2,\n",
              " 'xanadu': 1,\n",
              " 'adapted': 15,\n",
              " 'frequently': 139,\n",
              " 'pitily': 1,\n",
              " 'reformer': 1,\n",
              " 'grabiner': 2,\n",
              " 'silvio': 3,\n",
              " 'everypost': 1,\n",
              " 'nn': 19,\n",
              " 'shepherd': 8,\n",
              " 'maxghjn': 1,\n",
              " 'luxxe': 1,\n",
              " 'intrinsically': 22,\n",
              " 'gotchas': 4,\n",
              " 'internally': 19,\n",
              " 'financial': 54,\n",
              " 'murad': 1,\n",
              " 'opposites': 1,\n",
              " 'supervisors': 3,\n",
              " 'nashville': 14,\n",
              " 'transplan': 2,\n",
              " 'planetenproject': 1,\n",
              " 'dosage': 11,\n",
              " 'mby': 1,\n",
              " 'proximity': 8,\n",
              " 'unfamilar': 2,\n",
              " 'shortridge': 1,\n",
              " 'jimmie': 2,\n",
              " 'swell': 12,\n",
              " 'luemmel': 2,\n",
              " 'geodetic': 2,\n",
              " 'bhujwaia': 1,\n",
              " 'mfyl': 2,\n",
              " 'fierkelab': 10,\n",
              " 'mros': 2,\n",
              " 'adminstration': 6,\n",
              " 'mezuzah': 1,\n",
              " 'genrad': 1,\n",
              " 'gbdamz': 1,\n",
              " 'mackin': 3,\n",
              " 'electricty': 2,\n",
              " 'kamchar': 1,\n",
              " 'abolishment': 2,\n",
              " 'cert': 1,\n",
              " 'actuary': 1,\n",
              " 'jvwm': 1,\n",
              " 'meand': 1,\n",
              " 'handwriting': 12,\n",
              " 'obprediction': 1,\n",
              " 'jamestown': 2,\n",
              " 'obstetrics': 1,\n",
              " 'sensitized': 1,\n",
              " 'hazarded': 2,\n",
              " 'hiv': 9,\n",
              " 'reliablity': 3,\n",
              " 'setups': 11,\n",
              " 'stakeholders': 1,\n",
              " 'youthful': 2,\n",
              " 'rifampin': 1,\n",
              " 'preemption': 4,\n",
              " 'activist': 9,\n",
              " 'sleeps': 7,\n",
              " 'chongo': 4,\n",
              " 'dumps': 10,\n",
              " 'pischke': 2,\n",
              " 'hominen': 1,\n",
              " 'gipu': 2,\n",
              " 'hubbard': 3,\n",
              " 'devotion': 14,\n",
              " 'teck': 2,\n",
              " 'quarda': 1,\n",
              " 'provisions': 21,\n",
              " 'destroys': 12,\n",
              " 'restrain': 19,\n",
              " 'sbradley': 2,\n",
              " 'magnet': 4,\n",
              " 'pcxremote': 1,\n",
              " 'nurse': 9,\n",
              " 'mapam': 1,\n",
              " 'awh': 1,\n",
              " 'xug': 2,\n",
              " 'nyikos': 4,\n",
              " 'picketed': 1,\n",
              " 'hum': 7,\n",
              " 'wecafest': 1,\n",
              " 'beg': 27,\n",
              " 'boxed': 5,\n",
              " 'desjardins': 6,\n",
              " 'ronan': 1,\n",
              " 'manji': 3,\n",
              " 'computersysteme': 1,\n",
              " 'toplevel': 10,\n",
              " 'mahalleleri': 1,\n",
              " 'mamaysky': 13,\n",
              " 'crazed': 2,\n",
              " 'agancies': 3,\n",
              " 'spiro': 2,\n",
              " 'kludging': 1,\n",
              " 'houk': 1,\n",
              " 'nielsen': 13,\n",
              " 'vato': 1,\n",
              " 'hhva': 1,\n",
              " 'comptest': 1,\n",
              " 'div': 77,\n",
              " 'scars': 4,\n",
              " 'guinon': 2,\n",
              " 'neuromuscular': 1,\n",
              " 'midlle': 1,\n",
              " 'praxeas': 2,\n",
              " 'niftp': 2,\n",
              " 'mallet': 1,\n",
              " 'declassified': 2,\n",
              " 'eightbitinput': 1,\n",
              " 'injuring': 2,\n",
              " 'rodway': 1,\n",
              " 'jcmb': 1,\n",
              " 'doucet': 2,\n",
              " 'aspired': 1,\n",
              " 'wlr': 1,\n",
              " 'luckly': 1,\n",
              " 'chevrolet': 9,\n",
              " 'mlb': 24,\n",
              " 'rockville': 3,\n",
              " 'iapetus': 3,\n",
              " 'conventions': 13,\n",
              " 'immorality': 3,\n",
              " 'deveboynu': 1,\n",
              " 'defterleri': 1,\n",
              " 'spank': 4,\n",
              " 'infotrac': 1,\n",
              " 'escpecially': 2,\n",
              " 'dictation': 1,\n",
              " 'sulk': 6,\n",
              " 'tyme': 2,\n",
              " 'tnedderh': 1,\n",
              " 'ezrahut': 2,\n",
              " 'hebrew': 40,\n",
              " 'loadoncall': 1,\n",
              " 'convoy': 2,\n",
              " 'jody': 30,\n",
              " 'zealous': 1,\n",
              " 'wheelwriter': 1,\n",
              " 'hamfests': 1,\n",
              " 'employeer': 1,\n",
              " 'chase': 28,\n",
              " 'earle': 5,\n",
              " 'xmnrightattachment': 1,\n",
              " 'derivatives': 7,\n",
              " 'chau': 3,\n",
              " 'mouthed': 1,\n",
              " 'stormtroopers': 2,\n",
              " 'otsoa': 1,\n",
              " 'bli': 1,\n",
              " 'lucio': 3,\n",
              " 'scary': 38,\n",
              " 'iterations': 2,\n",
              " 'corleyg': 1,\n",
              " 'injector': 5,\n",
              " 'airmqir': 1,\n",
              " 'knox': 11,\n",
              " 'amroc': 1,\n",
              " 'babylonia': 1,\n",
              " 'wrists': 5,\n",
              " 'magnetism': 1,\n",
              " 'entertains': 1,\n",
              " 'eloquent': 7,\n",
              " 'hearted': 6,\n",
              " 'orh': 1,\n",
              " 'spiking': 5,\n",
              " 'reunions': 2,\n",
              " 'umc': 4,\n",
              " 'wit': 23,\n",
              " 'drd': 2,\n",
              " 'soomro': 1,\n",
              " 'shortcomings': 5,\n",
              " 'habt': 1,\n",
              " 'olchowy': 53,\n",
              " 'vechorik': 9,\n",
              " 'incarnate': 9,\n",
              " 'nears': 3,\n",
              " 'tueful': 1,\n",
              " 'empowered': 2,\n",
              " 'isalnum': 2,\n",
              " 'choleric': 3,\n",
              " 'guildenstern': 4,\n",
              " 'xenografts': 2,\n",
              " 'eliminates': 8,\n",
              " 'nondiscriminatory': 1,\n",
              " 'xsat': 1,\n",
              " 'quadbase': 1,\n",
              " 'bruised': 8,\n",
              " 'stressful': 3,\n",
              " 'inta': 1,\n",
              " 'dbm': 3,\n",
              " 'logullo': 1,\n",
              " 'nr': 13,\n",
              " 'ambico': 1,\n",
              " 'sedd': 1,\n",
              " 'sideropoulos': 1,\n",
              " 'heretic': 7,\n",
              " 'dribble': 8,\n",
              " 'lls': 1,\n",
              " 'privilages': 1,\n",
              " 'goodenow': 1,\n",
              " 'societa': 1,\n",
              " 'ltcs': 1,\n",
              " 'gyroscopes': 3,\n",
              " 'orgasmic': 1,\n",
              " 'persuasion': 6,\n",
              " 'astronauts': 10,\n",
              " 'peifeng': 1,\n",
              " 'vezina': 12,\n",
              " 'possibility': 160,\n",
              " 'muskingum': 5,\n",
              " 'transgenic': 2,\n",
              " 'mulitmedia': 1,\n",
              " 'couldnt': 2,\n",
              " 'xname': 2,\n",
              " 'ceasing': 2,\n",
              " 'kladno': 1,\n",
              " 'studium': 1,\n",
              " 'dipoles': 2,\n",
              " 'surfing': 4,\n",
              " 'dbak': 1,\n",
              " 'nesn': 1,\n",
              " 'verbitsky': 2,\n",
              " 'indianapolis': 11,\n",
              " 'cheng': 5,\n",
              " 'ayv': 1,\n",
              " 'advetising': 1,\n",
              " 'kennedys': 1,\n",
              " 'carla': 2,\n",
              " 'hiked': 1,\n",
              " 'trangression': 1,\n",
              " 'vlk': 2,\n",
              " 'spunk': 1,\n",
              " 'autumn': 13,\n",
              " 'galas': 1,\n",
              " 'designer': 18,\n",
              " 'whisper': 1,\n",
              " 'mesq': 1,\n",
              " 'cubic': 15,\n",
              " 'belonging': 21,\n",
              " 'ramsden': 5,\n",
              " 'preprocessor': 6,\n",
              " 'cheating': 15,\n",
              " 'eclectic': 2,\n",
              " 'associative': 1,\n",
              " 'cvadrnlh': 3,\n",
              " 'cicuit': 2,\n",
              " 'hvy': 1,\n",
              " 'mcging': 1,\n",
              " 'measurex': 1,\n",
              " 'unglueck': 1,\n",
              " 'oldsmobile': 4,\n",
              " 'schwarze': 2,\n",
              " 'vegans': 1,\n",
              " 'shazar': 1,\n",
              " 'gonads': 2,\n",
              " 'transmittable': 1,\n",
              " 'load': 119,\n",
              " 'heed': 8,\n",
              " 'forester': 1,\n",
              " 'wrightson': 1,\n",
              " 'polasek': 1,\n",
              " 'dismissive': 1,\n",
              " 'hymies': 1,\n",
              " 'ruder': 1,\n",
              " 'unoax': 1,\n",
              " 'skips': 1,\n",
              " 'lije': 2,\n",
              " 'hqc': 1,\n",
              " 'tackling': 4,\n",
              " 'rampton': 2,\n",
              " 'capistrano': 1,\n",
              " 'brightnesses': 1,\n",
              " 'provocation': 5,\n",
              " 'dts': 1,\n",
              " 'reemphasize': 1,\n",
              " 'pixels': 38,\n",
              " 'ée': 1,\n",
              " 'pca': 1,\n",
              " 'auditee': 1,\n",
              " 'duratation': 2,\n",
              " 'relegated': 6,\n",
              " 'statewide': 2,\n",
              " 'kill': 286,\n",
              " 'backwrapped': 1,\n",
              " 'unfolding': 2,\n",
              " 'saoshyant': 1,\n",
              " 'tegretol': 1,\n",
              " 'holsters': 3,\n",
              " 'begins': 57,\n",
              " 'characterised': 1,\n",
              " 'deguzman': 3,\n",
              " 'pza': 1,\n",
              " 'hinting': 2,\n",
              " 'instance': 147,\n",
              " 'confusable': 1,\n",
              " 'specialised': 1,\n",
              " 'fourthly': 1,\n",
              " 'paste': 17,\n",
              " 'ball': 119,\n",
              " 'refinements': 2,\n",
              " 'fled': 36,\n",
              " 'forseeable': 5,\n",
              " 'yali': 2,\n",
              " 'courant': 4,\n",
              " 'sanjay': 8,\n",
              " 'megatrend': 3,\n",
              " 'mesosphere': 2,\n",
              " 'isloting': 1,\n",
              " 'streamed': 2,\n",
              " 'liang': 1,\n",
              " 'cisc': 10,\n",
              " 'roses': 4,\n",
              " 'dispersal': 7,\n",
              " 'smokeless': 5,\n",
              " 'cogu': 1,\n",
              " 'wtb': 1,\n",
              " 'nutty': 4,\n",
              " 'mfij': 1,\n",
              " 'xparsegeometry': 1,\n",
              " 'heteropathic': 2,\n",
              " 'overtake': 6,\n",
              " 'pbenson': 1,\n",
              " 'capacitance': 3,\n",
              " 'marino': 3,\n",
              " 'vmkfyn': 1,\n",
              " 'enamel': 1,\n",
              " 'evidence': 407,\n",
              " 'wind': 69,\n",
              " 'codified': 6,\n",
              " 'polyurethene': 1,\n",
              " 'grilles': 1,\n",
              " 'prosecuted': 3,\n",
              " 'mtrek': 1,\n",
              " 'lems': 1,\n",
              " 'xtnx': 1,\n",
              " 'major': 428,\n",
              " 'quitting': 5,\n",
              " 'class': 239,\n",
              " 'geography': 9,\n",
              " 'republished': 1,\n",
              " 'liabiliaty': 1,\n",
              " 'wolanin': 1,\n",
              " 'maybe': 807,\n",
              " 'ripoff': 4,\n",
              " 'meninges': 1,\n",
              " 'sophomore': 18,\n",
              " 'suglia': 1,\n",
              " 'avoide': 1,\n",
              " 'monospaced': 2,\n",
              " 'dehydrated': 5,\n",
              " 'subroutines': 7,\n",
              " 'mmw': 2,\n",
              " 'greece': 44,\n",
              " 'fit': 195,\n",
              " 'zbjqbq': 1,\n",
              " 'gmrt': 1,\n",
              " 'precompiled': 1,\n",
              " 'dark': 101,\n",
              " 'ump': 5,\n",
              " 'aliasing': 2,\n",
              " 'superstitious': 1,\n",
              " 'karting': 1,\n",
              " 'hew': 6,\n",
              " 'levene': 1,\n",
              " 'traveling': 17,\n",
              " 'sheilding': 1,\n",
              " 'resposes': 1,\n",
              " 'kutcher': 1,\n",
              " 'keaton': 1,\n",
              " 'wieman': 1,\n",
              " 'xtdestructor': 1,\n",
              " 'shots': 80,\n",
              " 'graphicsengine': 2,\n",
              " 'remebers': 2,\n",
              " 'bryce': 6,\n",
              " 'huayong': 2,\n",
              " 'iapp': 1,\n",
              " 'bricklin': 4,\n",
              " 'ohc': 1,\n",
              " 'iluchine': 1,\n",
              " 'envoked': 1,\n",
              " 'carb': 11,\n",
              " 'deluging': 2,\n",
              " 'vgwlu': 1,\n",
              " 'machistic': 1,\n",
              " 'ghz': 6,\n",
              " 'qqnrui': 1,\n",
              " 'dde': 3,\n",
              " 'disbelieving': 2,\n",
              " 'abstract': 44,\n",
              " 'grissom': 1,\n",
              " 'cstom': 1,\n",
              " 'reproof': 1,\n",
              " 'uncreate': 3,\n",
              " 'tcs': 1,\n",
              " 'intolerance': 13,\n",
              " 'treewater': 5,\n",
              " 'xregistry': 1,\n",
              " 'slogan': 2,\n",
              " 'neeraj': 1,\n",
              " 'pyron': 18,\n",
              " 'bickering': 4,\n",
              " 'praktische': 2,\n",
              " 'sceptics': 4,\n",
              " 'promote': 57,\n",
              " 'pollards': 2,\n",
              " 'potholes': 6,\n",
              " 'tragnetics': 1,\n",
              " 'kugel': 1,\n",
              " 'ruling': 43,\n",
              " 'likkud': 1,\n",
              " 'luke': 44,\n",
              " 'busted': 16,\n",
              " 'belorusskaya': 2,\n",
              " 'asumption': 1,\n",
              " 'lucerne': 1,\n",
              " 'canada': 471,\n",
              " 'informatio': 1,\n",
              " 'denys': 1,\n",
              " 'outs': 33,\n",
              " 'grrrrr': 2,\n",
              " 'sdio': 15,\n",
              " 'destined': 5,\n",
              " 'xswa': 1,\n",
              " 'cah': 3,\n",
              " 'frustrated': 17,\n",
              " 'msf': 14,\n",
              " 'unsupportable': 1,\n",
              " 'outlawing': 8,\n",
              " 'acidophilius': 1,\n",
              " 'bhoga': 1,\n",
              " 'unrest': 5,\n",
              " 'ccw': 16,\n",
              " 'elbo': 3,\n",
              " 'bernstein': 20,\n",
              " 'baying': 1,\n",
              " 'redressed': 1,\n",
              " 'baccki': 1,\n",
              " 'budgets': 17,\n",
              " 'buttonhole': 1,\n",
              " 'indications': 4,\n",
              " 'sunroofs': 3,\n",
              " 'invader': 9,\n",
              " 'shimoda': 1,\n",
              " 'opted': 3,\n",
              " 'vietamiese': 2,\n",
              " 'welt': 4,\n",
              " 'hets': 1,\n",
              " 'normally': 167,\n",
              " 'eugenized': 1,\n",
              " 'erroneously': 2,\n",
              " 'mageors': 1,\n",
              " 'mcelroy': 1,\n",
              " 'outputs': 28,\n",
              " 'haas': 6,\n",
              " 'cnri': 1,\n",
              " 'hkcxxkc': 1,\n",
              " 'veronika': 1,\n",
              " 'motorway': 2,\n",
              " 'davisson': 2,\n",
              " 'ziedman': 1,\n",
              " 'pregnant': 21,\n",
              " 'biography': 7,\n",
              " 'rubery': 1,\n",
              " 'configuration': 100,\n",
              " 'italic': 3,\n",
              " 'hayward': 7,\n",
              " 'fuessen': 1,\n",
              " 'fold': 23,\n",
              " 'geophysics': 5,\n",
              " 'remnants': 1,\n",
              " 'ngp': 1,\n",
              " 'communites': 2,\n",
              " 'amdp': 1,\n",
              " 'xbell': 2,\n",
              " 'royko': 2,\n",
              " 'towels': 1,\n",
              " 'wright': 52,\n",
              " 'katinka': 2,\n",
              " 'deceipt': 1,\n",
              " 'khfnkh': 2,\n",
              " 'values': 162,\n",
              " 'computational': 19,\n",
              " 'backo': 1,\n",
              " 'szi': 1,\n",
              " 'catechist': 4,\n",
              " 'surrounded': 18,\n",
              " 'jacksonville': 3,\n",
              " 'seafood': 1,\n",
              " 'independent': 186,\n",
              " 'tbilisy': 1,\n",
              " 'racet': 1,\n",
              " 'shhhh': 1,\n",
              " 'byuvm': 1,\n",
              " 'qm': 10,\n",
              " 'record': 251,\n",
              " 'happening': 137,\n",
              " 'tomahto': 1,\n",
              " 'attainment': 2,\n",
              " 'recievers': 4,\n",
              " 'faxability': 1,\n",
              " 'greater': 169,\n",
              " 'conversing': 2,\n",
              " 'mvzmife': 1,\n",
              " 'agency': 147,\n",
              " 'observation': 66,\n",
              " 'offenders': 16,\n",
              " 'landowner': 2,\n",
              " 'annick': 3,\n",
              " 'jdkmrvmkfyw': 1,\n",
              " 'reversed': 26,\n",
              " 'speal': 1,\n",
              " 'scolding': 2,\n",
              " 'sting': 7,\n",
              " 'kat': 3,\n",
              " 'chevette': 1,\n",
              " 'ogi': 1,\n",
              " 'benningfield': 1,\n",
              " 'interferometry': 2,\n",
              " 'irritant': 1,\n",
              " 'antigay': 2,\n",
              " 'agee': 5,\n",
              " 'sexium': 1,\n",
              " 'belgelerle': 1,\n",
              " 'filipski': 1,\n",
              " 'kjznajz': 1,\n",
              " 'somekind': 2,\n",
              " 'coaxial': 4,\n",
              " 'disperse': 1,\n",
              " 'fashion': 55,\n",
              " 'plastics': 5,\n",
              " 'arats': 1,\n",
              " 'mikkot': 3,\n",
              " 'shostack': 28,\n",
              " 'amigos': 2,\n",
              " 'og': 7,\n",
              " 'arapaho': 1,\n",
              " 'rokne': 2,\n",
              " 'ash': 9,\n",
              " 'tripled': 2,\n",
              " 'link': 110,\n",
              " 'lemeuix': 1,\n",
              " 'poskanzer': 4,\n",
              " 'crescent': 5,\n",
              " 'superslots': 1,\n",
              " 'infraction': 1,\n",
              " 'darrel': 1,\n",
              " 'nye': 27,\n",
              " 'macstuf': 1,\n",
              " 'pointedly': 1,\n",
              " 'science': 911,\n",
              " 'hartford': 36,\n",
              " 'truman': 3,\n",
              " 'dose': 21,\n",
              " ...}"
            ]
          },
          "execution_count": 9,
          "metadata": {},
          "output_type": "execute_result"
        }
      ],
      "source": [
        "# Create a dictionary containing the frequency of words utilizing the 'frequency_dict' function\n",
        "\n",
        "# Expect this chunk to take a comparatively longer time to execute since our dataset is large\n",
        "\n",
        "freq_word = frequency_dict(lines)\n",
        "\n",
        "freq_word"
      ]
    },
    {
      "cell_type": "code",
      "execution_count": null,
      "metadata": {
        "id": "vLvPijR_GKHn"
      },
      "outputs": [],
      "source": [
        "# Create a function to calculate the Term Frequency\n",
        "\n",
        "def term_frequency(document, word):\n",
        "    '''\n",
        "    document: list containing the entire corpus\n",
        "    word: word whose term frequency is to be calculated\n",
        "    ---\n",
        "    tf: returns term frequency value\n",
        "    '''\n",
        "    N = len(document)\n",
        "    occurance = len([token for token in document if token == word])\n",
        "    tf = occurance/N\n",
        "\n",
        "    return tf"
      ]
    },
    {
      "cell_type": "code",
      "execution_count": null,
      "metadata": {
        "id": "HA99G_yAGLCC"
      },
      "outputs": [],
      "source": [
        "# Create a function to calculate the Inverse Document Frequency\n",
        "\n",
        "def inverse_df(word):\n",
        "    '''\n",
        "    word: word whose inverse document frequency is to be calculated\n",
        "    ---\n",
        "    idf: return inverse document frequency value\n",
        "    '''\n",
        "    try:\n",
        "        word_occurance = freq_word[word]\n",
        "    except:\n",
        "        word_occurance = 1\n",
        "    idf = np.log(total_docs/word_occurance)\n",
        "\n",
        "    return idf"
      ]
    },
    {
      "cell_type": "code",
      "execution_count": null,
      "metadata": {
        "id": "F0irgwv2GRfE"
      },
      "outputs": [],
      "source": [
        "#Create a function to combine the term frequencies (TF) and inverse document (IDF) frequencies calculated above to get TF-IDF\n",
        "\n",
        "def tfidf(sentence,dict_idx):\n",
        "    '''\n",
        "    sentence: list containing the entire corpus\n",
        "    dict: dictionary keeping track of index of each word\n",
        "    ---\n",
        "    tf_idf_vec: returns computed tf-idf\n",
        "    '''\n",
        "    tf_idf_vec = np.zeros((len(word_list),))\n",
        "    for word in sentence:\n",
        "        tf = term_frequency(sentence,word)\n",
        "        idf = inverse_df(word)\n",
        "\n",
        "        value = tf*idf\n",
        "        tf_idf_vec[dict_idx[word]] = value\n",
        "\n",
        "    return tf_idf_vec"
      ]
    },
    {
      "cell_type": "code",
      "execution_count": null,
      "metadata": {
        "id": "_VKJhqatGWpV"
      },
      "outputs": [],
      "source": [
        "#Compute the vectors utilizing the 'tfidf' function created above to obtain a TF-IDF Encoded text corpus\n",
        "\n",
        "vectors = []\n",
        "for sent in lines:\n",
        "    vec = tfidf(sent,dict_idx)\n",
        "    vectors.append(vec)"
      ]
    },
    {
      "cell_type": "markdown",
      "metadata": {
        "id": "LE0UGUaSGb8I"
      },
      "source": [
        "## Multinomial Naive Bayes (10 Points)"
      ]
    },
    {
      "cell_type": "code",
      "execution_count": null,
      "metadata": {
        "colab": {
          "base_uri": "https://localhost:8080/",
          "height": 75
        },
        "id": "yWYcxrdJGfDC",
        "outputId": "80b7a5d0-37e7-45c8-8248-2f3c3802428e"
      },
      "outputs": [
        {
          "data": {
            "text/html": [
              "<style>#sk-container-id-1 {color: black;background-color: white;}#sk-container-id-1 pre{padding: 0;}#sk-container-id-1 div.sk-toggleable {background-color: white;}#sk-container-id-1 label.sk-toggleable__label {cursor: pointer;display: block;width: 100%;margin-bottom: 0;padding: 0.3em;box-sizing: border-box;text-align: center;}#sk-container-id-1 label.sk-toggleable__label-arrow:before {content: \"▸\";float: left;margin-right: 0.25em;color: #696969;}#sk-container-id-1 label.sk-toggleable__label-arrow:hover:before {color: black;}#sk-container-id-1 div.sk-estimator:hover label.sk-toggleable__label-arrow:before {color: black;}#sk-container-id-1 div.sk-toggleable__content {max-height: 0;max-width: 0;overflow: hidden;text-align: left;background-color: #f0f8ff;}#sk-container-id-1 div.sk-toggleable__content pre {margin: 0.2em;color: black;border-radius: 0.25em;background-color: #f0f8ff;}#sk-container-id-1 input.sk-toggleable__control:checked~div.sk-toggleable__content {max-height: 200px;max-width: 100%;overflow: auto;}#sk-container-id-1 input.sk-toggleable__control:checked~label.sk-toggleable__label-arrow:before {content: \"▾\";}#sk-container-id-1 div.sk-estimator input.sk-toggleable__control:checked~label.sk-toggleable__label {background-color: #d4ebff;}#sk-container-id-1 div.sk-label input.sk-toggleable__control:checked~label.sk-toggleable__label {background-color: #d4ebff;}#sk-container-id-1 input.sk-hidden--visually {border: 0;clip: rect(1px 1px 1px 1px);clip: rect(1px, 1px, 1px, 1px);height: 1px;margin: -1px;overflow: hidden;padding: 0;position: absolute;width: 1px;}#sk-container-id-1 div.sk-estimator {font-family: monospace;background-color: #f0f8ff;border: 1px dotted black;border-radius: 0.25em;box-sizing: border-box;margin-bottom: 0.5em;}#sk-container-id-1 div.sk-estimator:hover {background-color: #d4ebff;}#sk-container-id-1 div.sk-parallel-item::after {content: \"\";width: 100%;border-bottom: 1px solid gray;flex-grow: 1;}#sk-container-id-1 div.sk-label:hover label.sk-toggleable__label {background-color: #d4ebff;}#sk-container-id-1 div.sk-serial::before {content: \"\";position: absolute;border-left: 1px solid gray;box-sizing: border-box;top: 0;bottom: 0;left: 50%;z-index: 0;}#sk-container-id-1 div.sk-serial {display: flex;flex-direction: column;align-items: center;background-color: white;padding-right: 0.2em;padding-left: 0.2em;position: relative;}#sk-container-id-1 div.sk-item {position: relative;z-index: 1;}#sk-container-id-1 div.sk-parallel {display: flex;align-items: stretch;justify-content: center;background-color: white;position: relative;}#sk-container-id-1 div.sk-item::before, #sk-container-id-1 div.sk-parallel-item::before {content: \"\";position: absolute;border-left: 1px solid gray;box-sizing: border-box;top: 0;bottom: 0;left: 50%;z-index: -1;}#sk-container-id-1 div.sk-parallel-item {display: flex;flex-direction: column;z-index: 1;position: relative;background-color: white;}#sk-container-id-1 div.sk-parallel-item:first-child::after {align-self: flex-end;width: 50%;}#sk-container-id-1 div.sk-parallel-item:last-child::after {align-self: flex-start;width: 50%;}#sk-container-id-1 div.sk-parallel-item:only-child::after {width: 0;}#sk-container-id-1 div.sk-dashed-wrapped {border: 1px dashed gray;margin: 0 0.4em 0.5em 0.4em;box-sizing: border-box;padding-bottom: 0.4em;background-color: white;}#sk-container-id-1 div.sk-label label {font-family: monospace;font-weight: bold;display: inline-block;line-height: 1.2em;}#sk-container-id-1 div.sk-label-container {text-align: center;}#sk-container-id-1 div.sk-container {/* jupyter's `normalize.less` sets `[hidden] { display: none; }` but bootstrap.min.css set `[hidden] { display: none !important; }` so we also need the `!important` here to be able to override the default hidden behavior on the sphinx rendered scikit-learn.org. See: https://github.com/scikit-learn/scikit-learn/issues/21755 */display: inline-block !important;position: relative;}#sk-container-id-1 div.sk-text-repr-fallback {display: none;}</style><div id=\"sk-container-id-1\" class=\"sk-top-container\"><div class=\"sk-text-repr-fallback\"><pre>MultinomialNB()</pre><b>In a Jupyter environment, please rerun this cell to show the HTML representation or trust the notebook. <br />On GitHub, the HTML representation is unable to render, please try loading this page with nbviewer.org.</b></div><div class=\"sk-container\" hidden><div class=\"sk-item\"><div class=\"sk-estimator sk-toggleable\"><input class=\"sk-toggleable__control sk-hidden--visually\" id=\"sk-estimator-id-1\" type=\"checkbox\" checked><label for=\"sk-estimator-id-1\" class=\"sk-toggleable__label sk-toggleable__label-arrow\">MultinomialNB</label><div class=\"sk-toggleable__content\"><pre>MultinomialNB()</pre></div></div></div></div></div>"
            ],
            "text/plain": [
              "MultinomialNB()"
            ]
          },
          "execution_count": 14,
          "metadata": {},
          "output_type": "execute_result"
        }
      ],
      "source": [
        "#Fit a Multinomial Naive Bayes Model on our dataset\n",
        "\n",
        "model = MultinomialNB()\n",
        "model.fit(vectors, mydata_train.target)\n"
      ]
    },
    {
      "cell_type": "code",
      "execution_count": null,
      "metadata": {
        "id": "G6CiQB4qGfqH"
      },
      "outputs": [],
      "source": [
        "#Perform testing on the train dataset\n",
        "\n",
        "pred = model.predict(vectors)"
      ]
    },
    {
      "cell_type": "code",
      "execution_count": null,
      "metadata": {
        "colab": {
          "base_uri": "https://localhost:8080/"
        },
        "id": "yCLagGu6Gh6T",
        "outputId": "9bc501cc-0609-48df-f040-3b624df40afb"
      },
      "outputs": [
        {
          "name": "stdout",
          "output_type": "stream",
          "text": [
            "F1 Score:  0.9310977515158141\n",
            "Accuracy:  0.9363620293441753\n"
          ]
        }
      ],
      "source": [
        "#Calculate the F1 Score and the Accuracy\n",
        "\n",
        "F1_score = f1_score(mydata_train.target, pred, average = 'weighted')\n",
        "Accuracy = accuracy_score(mydata_train.target, pred)\n",
        "print(\"F1 Score: \", F1_score)\n",
        "print(\"Accuracy: \", Accuracy)"
      ]
    },
    {
      "cell_type": "markdown",
      "metadata": {
        "id": "bbMRqJv5Gl2F"
      },
      "source": [
        "### Expected Output:\n",
        "F1 Score: 0.9533633964397735\n",
        "\n",
        "Accuracy: 0.9524482941488421"
      ]
    },
    {
      "cell_type": "markdown",
      "metadata": {
        "id": "AWRDuUqU-taV"
      },
      "source": [
        "Your accuracy does not have to be exactly the same. This is just to give you an estimate of what could you expect your accuracy to be around."
      ]
    },
    {
      "cell_type": "markdown",
      "metadata": {
        "id": "UfMc8cz93Cc0"
      },
      "source": [
        "## Question 2 Vector Visualization"
      ]
    },
    {
      "cell_type": "markdown",
      "metadata": {
        "id": "70iwEeL23F7K"
      },
      "source": [
        "In this unsupervised learning task we are going to cluster wikipedia articles into groups using T-SNE visualization after vectorization."
      ]
    },
    {
      "cell_type": "markdown",
      "metadata": {
        "id": "UHx4YuxW36oM"
      },
      "source": [
        "### Collect articles from Wikipedia (10 points)\n",
        "\n",
        "In this section we will download articles from wikipedia and then vectorize them in the next step. You can select somewhat related topics or fetch the articles randomly.\n",
        "(Use dir() and help() functions or refer wikipedia documentation)\n",
        "You may also pick any other data source of your choice instead of wikipedia."
      ]
    },
    {
      "cell_type": "code",
      "execution_count": 2,
      "metadata": {
        "colab": {
          "base_uri": "https://localhost:8080/"
        },
        "id": "jA419x6__mjg",
        "outputId": "bb40ec56-09ad-41e9-de61-2c2f89610d75"
      },
      "outputs": [
        {
          "name": "stdout",
          "output_type": "stream",
          "text": [
            "Collecting wikipedia\n",
            "  Downloading wikipedia-1.4.0.tar.gz (27 kB)\n",
            "  Preparing metadata (setup.py) ... \u001b[?25l\u001b[?25hdone\n",
            "Requirement already satisfied: beautifulsoup4 in /usr/local/lib/python3.10/dist-packages (from wikipedia) (4.12.3)\n",
            "Requirement already satisfied: requests<3.0.0,>=2.0.0 in /usr/local/lib/python3.10/dist-packages (from wikipedia) (2.31.0)\n",
            "Requirement already satisfied: charset-normalizer<4,>=2 in /usr/local/lib/python3.10/dist-packages (from requests<3.0.0,>=2.0.0->wikipedia) (3.3.2)\n",
            "Requirement already satisfied: idna<4,>=2.5 in /usr/local/lib/python3.10/dist-packages (from requests<3.0.0,>=2.0.0->wikipedia) (3.6)\n",
            "Requirement already satisfied: urllib3<3,>=1.21.1 in /usr/local/lib/python3.10/dist-packages (from requests<3.0.0,>=2.0.0->wikipedia) (2.0.7)\n",
            "Requirement already satisfied: certifi>=2017.4.17 in /usr/local/lib/python3.10/dist-packages (from requests<3.0.0,>=2.0.0->wikipedia) (2024.2.2)\n",
            "Requirement already satisfied: soupsieve>1.2 in /usr/local/lib/python3.10/dist-packages (from beautifulsoup4->wikipedia) (2.5)\n",
            "Building wheels for collected packages: wikipedia\n",
            "  Building wheel for wikipedia (setup.py) ... \u001b[?25l\u001b[?25hdone\n",
            "  Created wheel for wikipedia: filename=wikipedia-1.4.0-py3-none-any.whl size=11678 sha256=8eb387e86974e58d038197b8a95d737c382a219b77111641e112ab437bf46bde\n",
            "  Stored in directory: /root/.cache/pip/wheels/5e/b6/c5/93f3dec388ae76edc830cb42901bb0232504dfc0df02fc50de\n",
            "Successfully built wikipedia\n",
            "Installing collected packages: wikipedia\n",
            "Successfully installed wikipedia-1.4.0\n"
          ]
        }
      ],
      "source": [
        "# install libraries\n",
        "!pip install wikipedia"
      ]
    },
    {
      "cell_type": "code",
      "execution_count": 3,
      "metadata": {
        "id": "vLMLk4K84Zbn"
      },
      "outputs": [],
      "source": [
        "import wikipedia\n",
        "from wikipedia.exceptions import WikipediaException\n",
        "\n",
        "'''\n",
        " Generate a list of wikipedia article to cluster\n",
        " You can maintain a static list of titles or generate them randomly using wikipedia library\n",
        " Some topics include:\n",
        " [\"Northeastern Unversity\", \"Natural language processing\", \"Machine learning\", \"Quantum machine learning\", \"Artificial intelligence\", \"Data science\", \"Master in Data Science\",\n",
        " \"Bank of America\", \"Visa Inc.\", \"European Central Bank\", \"Bank\", \"Financial technology\",\"International Monetary Fund\",\n",
        " \"Basketball\", \"Swimming\", \"Tennis\", \"Football\", \"College Football\", \"Association Football\"]\n",
        "\n",
        " You can add more topics from different categories so that we have a diverse dataset to work with.\n",
        " Ex- About 3+ categories(groups), 3+ topics in each category, 3+ articles in each topic\n",
        "'''\n",
        "\n",
        "# selected topics\n",
        "topics = {\"Natural language processing\": \"Data Science\",\n",
        "          \"Machine learning\": \"Data Science\",\n",
        "          \"Quantum machine learning\": \"Data Science\",\n",
        "          \"Artificial intelligence\": \"Data Science\",\n",
        "          \"Master in Data Science\": \"Data Science\",\n",
        "          \"Bank of America\": \"Bank\",\n",
        "          \"Visa Inc.\": \"Bank\",\n",
        "          \"HSBC\": \"Bank\",\n",
        "          \"European Central Bank\": \"Bank\",\n",
        "          \"International Monetary Fund\": \"Bank\",\n",
        "          \"Basketball\": \"Sports\",\n",
        "          \"Swimming\": \"Sports\",\n",
        "          \"Tennis\": \"Sports\",\n",
        "          \"Football\":\"Sports\"}\n",
        "\n",
        "# list of articles to be downloaded\n",
        "articles = []\n",
        "label = []\n",
        "for topic, categ in topics.items():\n",
        "    article = wikipedia.search(topic, results = 3)\n",
        "    for i in article:\n",
        "        articles.append(i)\n",
        "        label.append(categ)\n",
        "\n",
        "# download and store articles (summaries) in this variable\n",
        "data = []\n",
        "new_label = []\n",
        "for i, article in enumerate(articles):\n",
        "    try:\n",
        "        a = wikipedia.summary(article, auto_suggest=False, redirect=True)\n",
        "        data.append(a)\n",
        "        new_label.append(label[i])\n",
        "    except wikipedia.DisambiguationError as e:\n",
        "        continue\n",
        "\n"
      ]
    },
    {
      "cell_type": "markdown",
      "metadata": {
        "id": "IgpRv7wQ4Dpm"
      },
      "source": [
        "### Cleaning the Data (5 points)\n",
        "In this step you will decide whether to clean the data or not. If you choose to clean, you may utilize the clean function from assignment 1.\n",
        "\n",
        "**Question:** Why are you (not) choosing to clean the data? Think in terms of whether cleaning data will help in the clustering or not."
      ]
    },
    {
      "cell_type": "markdown",
      "metadata": {
        "id": "PnZpDKcaHTGq"
      },
      "source": [
        "**Answer(1-3 sentences):**"
      ]
    },
    {
      "cell_type": "markdown",
      "metadata": {
        "id": "w3Suf1peFQty"
      },
      "source": [
        "Clustering technique in general is very senstive to noise and outliers. Hence I have chosen to clean the data before applying T-SNE visualization technique."
      ]
    },
    {
      "cell_type": "code",
      "execution_count": 4,
      "metadata": {
        "colab": {
          "base_uri": "https://localhost:8080/"
        },
        "id": "lNj53Pxr963N",
        "outputId": "7b3f3299-b76e-415e-d3f3-53d1ba54ed70"
      },
      "outputs": [
        {
          "name": "stderr",
          "output_type": "stream",
          "text": [
            "[nltk_data] Downloading package punkt to /root/nltk_data...\n",
            "[nltk_data]   Package punkt is already up-to-date!\n",
            "[nltk_data] Downloading package stopwords to /root/nltk_data...\n",
            "[nltk_data]   Package stopwords is already up-to-date!\n"
          ]
        }
      ],
      "source": [
        "# You can use Assignment 1's clean message function\n",
        "import re\n",
        "import nltk\n",
        "from nltk.corpus import stopwords\n",
        "from nltk.tokenize import word_tokenize, RegexpTokenizer\n",
        "from nltk.stem import WordNetLemmatizer\n",
        "import string\n",
        "nltk.download('punkt')\n",
        "nltk.download('stopwords')\n",
        "\n",
        "\n",
        "\n",
        "def clean_message(message):\n",
        "\n",
        "    '''\n",
        "    Input:\n",
        "        message: message string\n",
        "    Output:\n",
        "        message_cleaned: processed message.\n",
        "\n",
        "    '''\n",
        "    # Converting the messages to lowercase\n",
        "    message_cleaned = message.lower()\n",
        "\n",
        "    # Removing HTML patterns like <br />\n",
        "    html_pattern = re.compile('<.*?>')\n",
        "    message_cleaned = html_pattern.sub(r'', message_cleaned)\n",
        "\n",
        "    # Removing url's if any in the code\n",
        "    url_pattern = re.compile(r'https?://\\S+|www\\.\\S+')\n",
        "    message_cleaned = url_pattern.sub(r'', message_cleaned)\n",
        "\n",
        "    # List of stop words\n",
        "    stop_words = set(stopwords.words('english'))\n",
        "\n",
        "    # Tokenizing the words while removing punctuations\n",
        "    tokenizer = RegexpTokenizer(r'\\w+')\n",
        "    tokenwords = tokenizer.tokenize(message_cleaned)\n",
        "\n",
        "    # Removing stop words using the list created above\n",
        "    result = []\n",
        "    for w in tokenwords:\n",
        "      if w not in stop_words:\n",
        "        result.append(w)\n",
        "\n",
        "    # Lemmatizing the words\n",
        "    # Performing lemmatization instead of suggested stemming as lemmatization improved the accuracy of the model\n",
        "    lemmatizer = WordNetLemmatizer()\n",
        "    message_cleaned = [lemmatizer.lemmatize(w) for w in result]\n",
        "\n",
        "    # ps = PorterStemmer()\n",
        "    # message_cleaned = [ps.stem(w) for w in result]\n",
        "\n",
        "    # Joining the list of words back into a string\n",
        "    message_cleaned = \" \".join(message_cleaned)\n",
        "\n",
        "    return message_cleaned\n",
        "\n"
      ]
    },
    {
      "cell_type": "code",
      "execution_count": 5,
      "metadata": {
        "colab": {
          "base_uri": "https://localhost:8080/",
          "height": 87
        },
        "id": "prfPnXhy2hDu",
        "outputId": "e0d84868-050c-4b2a-d36a-fcbd5626fefc"
      },
      "outputs": [
        {
          "data": {
            "application/vnd.google.colaboratory.intrinsic+json": {
              "type": "string"
            },
            "text/plain": [
              "'natural language processing nlp interdisciplinary subfield computer science linguistics primarily concerned giving computer ability support manipulate human language involves processing natural language datasets text corpus speech corpus using either rule based probabilistic e statistical recently neural network based machine learning approach goal computer capable understanding content document including contextual nuance language within technology accurately extract information insight contained document well categorize organize document challenge natural language processing frequently involve speech recognition natural language understanding natural language generation'"
            ]
          },
          "execution_count": 5,
          "metadata": {},
          "output_type": "execute_result"
        }
      ],
      "source": [
        "clean_message(data[0])"
      ]
    },
    {
      "cell_type": "markdown",
      "metadata": {
        "id": "bvRZUpmq-DmT"
      },
      "source": [
        "### Vectorize the articles (5 points)\n",
        "\n",
        "In this step, we will vectorize the text data. You can use TfidfVectorizer() or countVectorizer() from sklearn library."
      ]
    },
    {
      "cell_type": "code",
      "execution_count": 6,
      "metadata": {
        "id": "gJk8YY89-OU4"
      },
      "outputs": [],
      "source": [
        "from sklearn.feature_extraction.text import CountVectorizer\n",
        "cleaned_data = []\n",
        "for i in data:\n",
        "    cleaned = clean_message(i)\n",
        "    cleaned_data.append(cleaned)\n"
      ]
    },
    {
      "cell_type": "code",
      "execution_count": 7,
      "metadata": {
        "id": "6-qdPHog2wWW"
      },
      "outputs": [],
      "source": [
        "vectorizer = CountVectorizer()\n",
        "vectorizer.fit(cleaned_data)\n",
        "X = vectorizer.transform(cleaned_data)"
      ]
    },
    {
      "cell_type": "code",
      "execution_count": 8,
      "metadata": {
        "colab": {
          "base_uri": "https://localhost:8080/"
        },
        "id": "DAIGlqEuINWA",
        "outputId": "6de294b7-bd70-45a6-c510-f8116a03fb9b"
      },
      "outputs": [
        {
          "name": "stdout",
          "output_type": "stream",
          "text": [
            "(41, 2139)\n"
          ]
        }
      ],
      "source": [
        "print(X.shape)"
      ]
    },
    {
      "cell_type": "markdown",
      "metadata": {
        "id": "PKLvrKHRQaQq"
      },
      "source": [
        "### Sample Output:\n",
        "(36, 1552)"
      ]
    },
    {
      "cell_type": "markdown",
      "metadata": {
        "id": "M5ZrGrzD_G8d"
      },
      "source": [
        "### Plot Articles (10 points)\n",
        "Now we will try to verify the groups of articles using T-SNE from sklearn library."
      ]
    },
    {
      "cell_type": "code",
      "execution_count": 9,
      "metadata": {
        "id": "SjcuZBOe-oZq"
      },
      "outputs": [],
      "source": [
        "from sklearn.manifold import TSNE\n",
        "\n",
        "# call TSNE() to fit the data\n",
        "tsne = TSNE(init='random',random_state=42).fit_transform(X)"
      ]
    },
    {
      "cell_type": "markdown",
      "metadata": {
        "id": "iCY_blxjO1bs"
      },
      "source": [
        "Plot and annotate the points with different markers for different expected groups."
      ]
    },
    {
      "cell_type": "code",
      "execution_count": 10,
      "metadata": {
        "colab": {
          "base_uri": "https://localhost:8080/",
          "height": 1000
        },
        "id": "lS6eMaYGxCTh",
        "outputId": "51425d27-4a12-43f7-f887-6dade4a643c8"
      },
      "outputs": [
        {
          "data": {
            "image/png": "[encoded data removed]",
            "text/plain": [
              "<Figure size 1600x1600 with 1 Axes>"
            ]
          },
          "metadata": {},
          "output_type": "display_data"
        }
      ],
      "source": [
        "import matplotlib.pyplot as plt\n",
        "\n",
        "x = []\n",
        "y = []\n",
        "for value in tsne:\n",
        "    x.append(value[0])\n",
        "    y.append(value[1])\n",
        "\n",
        "# get a figure handle\n",
        "fig, ax = plt.subplots(figsize=(16, 16))\n",
        "\n",
        "marker_dic = {\"Data Science\": \"^\", \"Sports\": \"s\", \"Bank\": \"o\"}\n",
        "color_dic = {\"Data Science\": \"#EE4B2B\", \"Sports\": \"b\", \"Bank\": \"#007500\"}\n",
        "\n",
        "for i in range(len(x)):\n",
        "    ax.scatter(x[i], y[i], marker=marker_dic[label[i]], c=color_dic[label[i]])\n",
        "    ax.annotate(label[i],\n",
        "                xy=(x[i], y[i]),\n",
        "                xytext=(5, 2),\n",
        "                textcoords='offset points',\n",
        "                ha='right',\n",
        "                va='bottom')\n",
        "\n",
        "plt.show()\n"
      ]
    },
    {
      "cell_type": "markdown",
      "metadata": {
        "id": "dYcEi1EC_UGO"
      },
      "source": [
        "**Question:** Comment about the categorizion done by T-SNE. Do the articles of related topics cluster together? (5 points)"
      ]
    },
    {
      "cell_type": "markdown",
      "metadata": {
        "id": "tde1Wu5HI6AA"
      },
      "source": [
        "**Answer(1-3 sentences):**  \n",
        "  \n"
      ]
    },
    {
      "cell_type": "markdown",
      "metadata": {
        "id": "U7ROizJ6xTSz"
      },
      "source": [
        "T-SNE has done a fairly good job is categorizing the articles. We can see topics related to Bank are mostly clustered towards the left. Major Sports topics are found to the right side of the plot and Data Science topics are clustered towards the center of the figure. We also notice that there is quite some overlap of topics right at the very center of the image."
      ]
    },
    {
      "cell_type": "markdown",
      "metadata": {
        "id": "U2xrJddIpSsd"
      },
      "source": [
        "# Question 3 Building Neural Networks\n",
        "\n",
        "### We are gonna use Emotions Dataset for this task. We need to classify the given text into different kind of emotions like happy,sad,anger etc..,\n",
        "\n",
        "### We are providing train.txt and val.txt files along with this notebook."
      ]
    },
    {
      "cell_type": "markdown",
      "metadata": {
        "id": "NJYmVbkvphgX"
      },
      "source": [
        "### Library Imports and Utility functions"
      ]
    },
    {
      "cell_type": "code",
      "execution_count": 2,
      "metadata": {
        "colab": {
          "base_uri": "https://localhost:8080/"
        },
        "id": "BO-HU-7uorVX",
        "outputId": "af4afc5c-f7d2-4149-83f2-5f2ff4aae46f"
      },
      "outputs": [
        {
          "name": "stderr",
          "output_type": "stream",
          "text": [
            "[nltk_data] Downloading package stopwords to /root/nltk_data...\n",
            "[nltk_data]   Package stopwords is already up-to-date!\n",
            "[nltk_data] Downloading package wordnet to /root/nltk_data...\n",
            "[nltk_data]   Package wordnet is already up-to-date!\n",
            "[nltk_data] Downloading package words to /root/nltk_data...\n",
            "[nltk_data]   Unzipping corpora/words.zip.\n"
          ]
        }
      ],
      "source": [
        "from sklearn.feature_extraction.text import CountVectorizer\n",
        "from sklearn.feature_extraction.text import TfidfVectorizer\n",
        "import nltk\n",
        "from nltk.corpus import stopwords\n",
        "from nltk.stem import PorterStemmer\n",
        "from nltk.tokenize import word_tokenize\n",
        "import string\n",
        "import pandas as pd\n",
        "import re\n",
        "#string.punctuation\n",
        "import nltk\n",
        "nltk.download('stopwords')\n",
        "nltk.download('wordnet')\n",
        "nltk.download('words')\n",
        "\n",
        "stopword = nltk.corpus.stopwords.words('english')\n",
        "wn = nltk.WordNetLemmatizer()\n",
        "ps = nltk.PorterStemmer()\n",
        "words = set(nltk.corpus.words.words())\n",
        "\n",
        "\n",
        "def clean_text(text):\n",
        "  # From the last assignment\n",
        "    text = text.lower()\n",
        "    text = re.sub(r\"http\\S+\", \"\", text)\n",
        "    text = re.sub(r\"www.\\S+\", \"\", text)\n",
        "    text_links_removed = \"\".join([char for char in text if char not in string.punctuation])\n",
        "    text_cleaned = \" \".join([word for word in re.split('\\W+', text_links_removed)\n",
        "        if word not in stopword])\n",
        "    text = \" \".join([wn.lemmatize(word) for word in re.split('\\W+', text_cleaned)])\n",
        "    return text"
      ]
    },
    {
      "cell_type": "markdown",
      "metadata": {
        "id": "B0D5wVjZw7s0"
      },
      "source": [
        "### Q) Importing the datasets and do the necessary cleaning and convert the text into the vectors which are mentioned in the below code blocks. (10 points)"
      ]
    },
    {
      "cell_type": "code",
      "execution_count": 3,
      "metadata": {
        "colab": {
          "base_uri": "https://localhost:8080/"
        },
        "id": "MOMhmIlGprK9",
        "outputId": "7571f005-d3ad-48df-f8c9-e0e500c4ac5c"
      },
      "outputs": [
        {
          "name": "stdout",
          "output_type": "stream",
          "text": [
            "(16000, 2)\n",
            "(2000, 2)\n"
          ]
        }
      ],
      "source": [
        "# Import the train.txt and val.txt file into pandas dataframe format\n",
        "\n",
        "columns = ['Text', 'Target']\n",
        "# train\n",
        "train_df = pd.read_csv('train.txt', sep = ';', header = None, names = columns)\n",
        "\n",
        "# validation\n",
        "validation_df = pd.read_csv('val.txt', sep = ';', header = None, names = columns)\n",
        "\n",
        "# and printout the train.shape and validation.shape\n",
        "print(train_df.shape)\n",
        "print(validation_df.shape)\n",
        "\n",
        "# expected shape of train dataset is (16000,2) and validation dataset is (2000,2)"
      ]
    },
    {
      "cell_type": "code",
      "execution_count": 7,
      "metadata": {
        "id": "PS7K3p7AqAI8"
      },
      "outputs": [],
      "source": [
        "# clean the text in the train and validation dataframes using the clean_text function provided above\n",
        "# Train data\n",
        "for (index, row) in train_df.iterrows():\n",
        "    row['Text'] = clean_text(row['Text'])\n",
        "# Validation data\n",
        "for (index, row) in validation_df.iterrows():\n",
        "    row['Text'] = clean_text(row['Text'])"
      ]
    },
    {
      "cell_type": "code",
      "execution_count": 8,
      "metadata": {
        "id": "GxZC6RIjq3bu"
      },
      "outputs": [],
      "source": [
        "# initialise count vectorizer from sklearn module with default parameter\n",
        "cv = CountVectorizer()\n",
        "\n",
        "# fit on train dataset and transform both train and validation dataset\n",
        "# train data\n",
        "train_cntvect = cv.fit_transform(train_df['Text'])\n",
        "# validation data\n",
        "validation_cntvect = cv.transform(validation_df['Text'])"
      ]
    },
    {
      "cell_type": "code",
      "execution_count": 9,
      "metadata": {
        "id": "85nuazEzq3YT"
      },
      "outputs": [],
      "source": [
        "# initialise tfidf vectorizer from sklearn module with default parameter\n",
        "tfIdf = TfidfVectorizer()\n",
        "\n",
        "# fit on train dataset and transform both train and validation dataset\n",
        "# train data\n",
        "train_tfidf = tfIdf.fit_transform(train_df['Text'])\n",
        "#test data\n",
        "validation_tfidf = tfIdf.transform(validation_df['Text'])"
      ]
    },
    {
      "cell_type": "code",
      "execution_count": 10,
      "metadata": {
        "id": "jgHWAuG-q3Vm"
      },
      "outputs": [],
      "source": [
        "# initialise label encoder from sklearn module\n",
        "L_encoder = preprocessing.LabelEncoder()\n",
        "\n",
        "# fit on train labels and transform both train and validation labels\n",
        "# train data\n",
        "train_le= L_encoder.fit_transform(train_df['Target'])\n",
        "# validation data\n",
        "validation_le = L_encoder.transform(validation_df['Target'])"
      ]
    },
    {
      "cell_type": "code",
      "execution_count": 11,
      "metadata": {
        "id": "Wjdye0tvq3So"
      },
      "outputs": [],
      "source": [
        "# convert the labels into one hot encoding form\n",
        "L_binarizer = preprocessing.LabelBinarizer()\n",
        "\n",
        "# train data\n",
        "train_oh = L_binarizer.fit_transform(train_df['Target'])\n",
        "# validation data\n",
        "validation_oh = L_binarizer.transform(validation_df['Target'])"
      ]
    },
    {
      "cell_type": "markdown",
      "metadata": {
        "id": "xjsiH8YOw-Da"
      },
      "source": [
        "### Q) Build the neural networks using tensorflow keras by following the below instructions. Evaluate the model on different metrics and comment your observations. (20 points)"
      ]
    },
    {
      "cell_type": "code",
      "execution_count": 12,
      "metadata": {
        "id": "AQg14bkTq3KB"
      },
      "outputs": [],
      "source": [
        "import tensorflow as tf\n",
        "\n",
        "tf.random.set_seed(42)\n",
        "\n",
        "\n",
        "# complete this linear model in tensorflow\n",
        "def build_model(X):\n",
        "\n",
        "    # layer 1 : input layer\n",
        "    inp = tf.keras.Input((X.shape[1],))\n",
        "\n",
        "    # layer 2 : add the dense layer with 2048 units and relu activation\n",
        "    out = tf.keras.layers.Dense(2048, input_dim = X.shape[1] , activation = 'relu')(inp)\n",
        "\n",
        "    # layer 3 : add the dropout layer with dropout rate of 0.5\n",
        "    out = tf.keras.layers.Dropout(0.5, input_shape=(2048, ))(out)\n",
        "\n",
        "    # layer 4 : add the dense layer with 1024 units with tanh activation and with l2 regularization\n",
        "    out = tf.keras.layers.Dense(1024, input_dim = (2048, ), activation = 'tanh', kernel_regularizer=tf.keras.regularizers.l2())(out)\n",
        "\n",
        "    # layer 5 : add the dropout layer with dropout rate of 0.5\n",
        "    out = tf.keras.layers.Dropout(0.5, input_shape=(2048,))(out)\n",
        "\n",
        "    # layer 6 : add the dense layer with 512 units with tanh activation and with l2 regularization\n",
        "    out = tf.keras.layers.Dense(512, input_dim = (1024,), activation = 'tanh', kernel_regularizer=tf.keras.regularizers.l2())(out)\n",
        "\n",
        "    # layer 7 : add the dropout layer with dropout rate of 0.5\n",
        "    out = tf.keras.layers.Dropout(0.5, input_shape=(512,))(out)\n",
        "\n",
        "    # layer 8 : add the dense layer with 256 units with tanh activation and with l2 regularization\n",
        "    out = tf.keras.layers.Dense(256, input_dim = (512,), activation = 'tanh', kernel_regularizer=tf.keras.regularizers.l2())(out)\n",
        "\n",
        "    # layer 9 : add the dropout layer with dropout rate of 0.5\n",
        "    out = tf.keras.layers.Dropout(0.5, input_shape=(256,))(out)\n",
        "\n",
        "    # layer 10 : add the dense layer with 128 units with tanh activation and with l2 regularization\n",
        "    out = tf.keras.layers.Dense(128, input_dim = (256,), activation = 'tanh', kernel_regularizer=tf.keras.regularizers.l2())(out)\n",
        "\n",
        "    # layer 11 : add the dropout layer with dropout rate of 0.5\n",
        "    out = tf.keras.layers.Dropout(0.5, input_shape=(128,))(out)\n",
        "\n",
        "    # layer 12 : output layer with units equal to number of classes and activation as softmax\n",
        "    out = tf.keras.layers.Dense(6, activation = 'softmax')(out)\n",
        "\n",
        "    # use loss as categorical crossentropy, optimizer as rmsprop and evaluate model on auc,precision,recall,accuracy\n",
        "    model = tf.keras.models.Model(inputs=inp, outputs=out)\n",
        "    optimizer = tf.keras.optimizers.RMSprop()\n",
        "    model.compile(loss = 'categorical_crossentropy',\n",
        "                  optimizer = optimizer,\n",
        "                  metrics = ['AUC', 'Precision', 'Recall', 'accuracy',])\n",
        "\n",
        "\n",
        "    return model\n"
      ]
    },
    {
      "cell_type": "code",
      "execution_count": 13,
      "metadata": {
        "colab": {
          "base_uri": "https://localhost:8080/"
        },
        "id": "Q71CC1pIsx0O",
        "outputId": "4e59b62c-b9e5-436c-8576-d62fbd8eeb7f"
      },
      "outputs": [
        {
          "name": "stdout",
          "output_type": "stream",
          "text": [
            "Model: \"model\"\n",
            "_________________________________________________________________\n",
            " Layer (type)                Output Shape              Param #   \n",
            "=================================================================\n",
            " input_1 (InputLayer)        [(None, 13435)]           0         \n",
            "                                                                 \n",
            " dense (Dense)               (None, 2048)              27516928  \n",
            "                                                                 \n",
            " dropout (Dropout)           (None, 2048)              0         \n",
            "                                                                 \n",
            " dense_1 (Dense)             (None, 1024)              2098176   \n",
            "                                                                 \n",
            " dropout_1 (Dropout)         (None, 1024)              0         \n",
            "                                                                 \n",
            " dense_2 (Dense)             (None, 512)               524800    \n",
            "                                                                 \n",
            " dropout_2 (Dropout)         (None, 512)               0         \n",
            "                                                                 \n",
            " dense_3 (Dense)             (None, 256)               131328    \n",
            "                                                                 \n",
            " dropout_3 (Dropout)         (None, 256)               0         \n",
            "                                                                 \n",
            " dense_4 (Dense)             (None, 128)               32896     \n",
            "                                                                 \n",
            " dropout_4 (Dropout)         (None, 128)               0         \n",
            "                                                                 \n",
            " dense_5 (Dense)             (None, 6)                 774       \n",
            "                                                                 \n",
            "=================================================================\n",
            "Total params: 30304902 (115.60 MB)\n",
            "Trainable params: 30304902 (115.60 MB)\n",
            "Non-trainable params: 0 (0.00 Byte)\n",
            "_________________________________________________________________\n"
          ]
        }
      ],
      "source": [
        "# call the build_model function and initialize the model\n",
        "cntvect_model = build_model(train_cntvect)\n",
        "cntvect_model.summary()"
      ]
    },
    {
      "cell_type": "code",
      "execution_count": 16,
      "metadata": {
        "colab": {
          "base_uri": "https://localhost:8080/"
        },
        "id": "KyAZNgsBsxwo",
        "outputId": "1610e355-d3b4-4c01-a182-8164114e9904"
      },
      "outputs": [
        {
          "name": "stdout",
          "output_type": "stream",
          "text": [
            "Epoch 1/10\n",
            "2000/2000 [==============================] - 890s 444ms/step - loss: 2.3457 - auc: 0.7982 - precision: 0.5856 - recall: 0.1552 - accuracy: 0.4212 - val_loss: 1.3174 - val_auc: 0.8717 - val_precision: 0.7220 - val_recall: 0.3350 - val_accuracy: 0.5805\n",
            "Epoch 2/10\n",
            "2000/2000 [==============================] - 868s 434ms/step - loss: 1.2772 - auc: 0.8888 - precision: 0.7195 - recall: 0.4599 - accuracy: 0.6206 - val_loss: 1.2192 - val_auc: 0.9048 - val_precision: 0.7327 - val_recall: 0.5810 - val_accuracy: 0.6875\n",
            "Epoch 3/10\n",
            "2000/2000 [==============================] - 878s 439ms/step - loss: 1.1799 - auc: 0.9105 - precision: 0.7399 - recall: 0.5692 - accuracy: 0.6759 - val_loss: 1.2298 - val_auc: 0.9071 - val_precision: 0.7359 - val_recall: 0.5755 - val_accuracy: 0.6770\n",
            "Epoch 4/10\n",
            "2000/2000 [==============================] - 863s 431ms/step - loss: 1.1189 - auc: 0.9221 - precision: 0.7607 - recall: 0.6214 - accuracy: 0.7059 - val_loss: 1.1651 - val_auc: 0.9152 - val_precision: 0.7561 - val_recall: 0.6155 - val_accuracy: 0.6930\n",
            "Epoch 5/10\n",
            "2000/2000 [==============================] - 859s 429ms/step - loss: 1.0711 - auc: 0.9301 - precision: 0.7734 - recall: 0.6494 - accuracy: 0.7188 - val_loss: 1.1310 - val_auc: 0.9223 - val_precision: 0.7566 - val_recall: 0.6125 - val_accuracy: 0.7115\n",
            "Epoch 6/10\n",
            "2000/2000 [==============================] - 871s 435ms/step - loss: 1.0446 - auc: 0.9344 - precision: 0.7789 - recall: 0.6658 - accuracy: 0.7296 - val_loss: 1.1267 - val_auc: 0.9232 - val_precision: 0.7594 - val_recall: 0.6755 - val_accuracy: 0.7185\n",
            "Epoch 7/10\n",
            "2000/2000 [==============================] - 865s 432ms/step - loss: 1.0255 - auc: 0.9379 - precision: 0.7879 - recall: 0.6776 - accuracy: 0.7381 - val_loss: 1.1465 - val_auc: 0.9212 - val_precision: 0.7413 - val_recall: 0.6505 - val_accuracy: 0.7030\n",
            "Epoch 8/10\n",
            "2000/2000 [==============================] - 868s 434ms/step - loss: 1.0085 - auc: 0.9408 - precision: 0.7928 - recall: 0.6947 - accuracy: 0.7439 - val_loss: 1.1101 - val_auc: 0.9291 - val_precision: 0.7820 - val_recall: 0.6745 - val_accuracy: 0.7270\n",
            "Epoch 9/10\n",
            "2000/2000 [==============================] - 870s 435ms/step - loss: 0.9920 - auc: 0.9439 - precision: 0.8006 - recall: 0.7025 - accuracy: 0.7524 - val_loss: 1.1825 - val_auc: 0.9239 - val_precision: 0.7599 - val_recall: 0.7090 - val_accuracy: 0.7305\n",
            "Epoch 10/10\n",
            "2000/2000 [==============================] - 862s 431ms/step - loss: 0.9926 - auc: 0.9441 - precision: 0.8005 - recall: 0.7069 - accuracy: 0.7560 - val_loss: 1.1885 - val_auc: 0.9101 - val_precision: 0.6998 - val_recall: 0.5910 - val_accuracy: 0.6465\n"
          ]
        }
      ],
      "source": [
        "# train and validate the model on the count vectors of text which we have created initially for 10 epochs,\n",
        "# adjust batch size according to your computation power (suggestion use : 8)\n",
        "\n",
        "from scipy.sparse import csr_matrix\n",
        "train_cntvect_np = np.array(train_cntvect.todense())\n",
        "validation_cntvect_np = np.array(validation_cntvect.todense())\n",
        "\n",
        "training_cntvect = cntvect_model.fit(train_cntvect_np, train_oh,\n",
        "                                     batch_size=8, epochs=10,\n",
        "                                     validation_data=(validation_cntvect_np, validation_oh))\n"
      ]
    },
    {
      "cell_type": "code",
      "execution_count": 18,
      "metadata": {
        "colab": {
          "base_uri": "https://localhost:8080/",
          "height": 1000
        },
        "id": "nS02IwLCsxmG",
        "outputId": "a8651889-d127-45c6-c484-d8bc32d73c2e"
      },
      "outputs": [
        {
          "data": {
            "image/png": "[encoded data removed]",
            "text/plain": [
              "<Figure size 640x480 with 1 Axes>"
            ]
          },
          "metadata": {},
          "output_type": "display_data"
        },
        {
          "data": {
            "image/png": "[encoded data removed]",
            "text/plain": [
              "<Figure size 640x480 with 1 Axes>"
            ]
          },
          "metadata": {},
          "output_type": "display_data"
        },
        {
          "data": {
            "image/png": "[encoded data removed]",
            "text/plain": [
              "<Figure size 640x480 with 1 Axes>"
            ]
          },
          "metadata": {},
          "output_type": "display_data"
        },
        {
          "data": {
            "image/png": "[encoded data removed]",
            "text/plain": [
              "<Figure size 640x480 with 1 Axes>"
            ]
          },
          "metadata": {},
          "output_type": "display_data"
        },
        {
          "data": {
            "image/png": "[encoded data removed]",
            "text/plain": [
              "<Figure size 640x480 with 1 Axes>"
            ]
          },
          "metadata": {},
          "output_type": "display_data"
        }
      ],
      "source": [
        "# plot train loss vs val loss, train auc vs val auc, train recall vs val recall, train precision vs val precision and train accuracy vs val accuracy and comment your observations\n",
        "\n",
        "# Loss\n",
        "plt.plot(training_cntvect.history['loss'])\n",
        "plt.plot(training_cntvect.history['val_loss'])\n",
        "plt.legend(['Train', 'Validation'])\n",
        "plt.xlabel('Epochs')\n",
        "plt.ylabel('Loss')\n",
        "plt.show()\n",
        "\n",
        "# AUC\n",
        "plt.plot(training_cntvect.history['auc'])\n",
        "plt.plot(training_cntvect.history['val_auc'])\n",
        "plt.legend(['Train', 'Validation'])\n",
        "plt.xlabel('Epochs')\n",
        "plt.ylabel('AUC')\n",
        "plt.show()\n",
        "\n",
        "# Recall\n",
        "plt.plot(training_cntvect.history['recall'])\n",
        "plt.plot(training_cntvect.history['val_recall'])\n",
        "plt.legend(['Train', 'Validation'])\n",
        "plt.xlabel('Epochs')\n",
        "plt.ylabel('Recall')\n",
        "plt.show()\n",
        "\n",
        "# Precision\n",
        "plt.plot(training_cntvect.history['precision'])\n",
        "plt.plot(training_cntvect.history['val_precision'])\n",
        "plt.legend(['Train', 'Validation'])\n",
        "plt.xlabel('Epochs')\n",
        "plt.ylabel('Precision')\n",
        "plt.show()\n",
        "\n",
        "# Accuracy\n",
        "plt.plot(training_cntvect.history['accuracy'])\n",
        "plt.plot(training_cntvect.history['val_accuracy'])\n",
        "plt.legend(['Train', 'Validation'])\n",
        "plt.xlabel('Epochs')\n",
        "plt.ylabel('Accuracy')\n",
        "plt.show()"
      ]
    },
    {
      "cell_type": "markdown",
      "metadata": {
        "id": "Ev7CA68FEtsZ"
      },
      "source": [
        "We can see that the metrics like Accuracy, AUC, Precision and Recall increase with the epochs and the loss deacreases with the increase in epochs. We can see a train accuracy close to 75% and validation accuracy close to 70% with the count vectorizer. The AUC value is in the range of 90-95% for the train and validation datasets. The precision is around 77% for the train dataset and 72% for the validation dataset. We can see ups and downs in the validation metrics but where as the training metrics vary gradually."
      ]
    },
    {
      "cell_type": "code",
      "execution_count": 19,
      "metadata": {
        "colab": {
          "base_uri": "https://localhost:8080/"
        },
        "id": "6FHdCcp7wXyw",
        "outputId": "5bdd3b03-1f25-47c3-9071-2ebed431956f"
      },
      "outputs": [
        {
          "name": "stdout",
          "output_type": "stream",
          "text": [
            "Model: \"model_1\"\n",
            "_________________________________________________________________\n",
            " Layer (type)                Output Shape              Param #   \n",
            "=================================================================\n",
            " input_2 (InputLayer)        [(None, 13435)]           0         \n",
            "                                                                 \n",
            " dense_6 (Dense)             (None, 2048)              27516928  \n",
            "                                                                 \n",
            " dropout_5 (Dropout)         (None, 2048)              0         \n",
            "                                                                 \n",
            " dense_7 (Dense)             (None, 1024)              2098176   \n",
            "                                                                 \n",
            " dropout_6 (Dropout)         (None, 1024)              0         \n",
            "                                                                 \n",
            " dense_8 (Dense)             (None, 512)               524800    \n",
            "                                                                 \n",
            " dropout_7 (Dropout)         (None, 512)               0         \n",
            "                                                                 \n",
            " dense_9 (Dense)             (None, 256)               131328    \n",
            "                                                                 \n",
            " dropout_8 (Dropout)         (None, 256)               0         \n",
            "                                                                 \n",
            " dense_10 (Dense)            (None, 128)               32896     \n",
            "                                                                 \n",
            " dropout_9 (Dropout)         (None, 128)               0         \n",
            "                                                                 \n",
            " dense_11 (Dense)            (None, 6)                 774       \n",
            "                                                                 \n",
            "=================================================================\n",
            "Total params: 30304902 (115.60 MB)\n",
            "Trainable params: 30304902 (115.60 MB)\n",
            "Non-trainable params: 0 (0.00 Byte)\n",
            "_________________________________________________________________\n"
          ]
        }
      ],
      "source": [
        "# again call the build_model function and initialize the model\n",
        "tfidf_model = build_model(train_tfidf)\n",
        "tfidf_model.summary()"
      ]
    },
    {
      "cell_type": "code",
      "execution_count": 20,
      "metadata": {
        "colab": {
          "base_uri": "https://localhost:8080/"
        },
        "id": "k4gB80M6wXvV",
        "outputId": "e30196c7-d21a-4020-ffd0-6aa0aca7c27f"
      },
      "outputs": [
        {
          "name": "stdout",
          "output_type": "stream",
          "text": [
            "Epoch 1/10\n",
            "2000/2000 [==============================] - 850s 424ms/step - loss: 1.9269 - auc: 0.7957 - precision: 0.5460 - recall: 0.1164 - accuracy: 0.3903 - val_loss: 1.2862 - val_auc: 0.8706 - val_precision: 0.6729 - val_recall: 0.3055 - val_accuracy: 0.4970\n",
            "Epoch 2/10\n",
            "2000/2000 [==============================] - 845s 423ms/step - loss: 1.2426 - auc: 0.8883 - precision: 0.7041 - recall: 0.4112 - accuracy: 0.5893 - val_loss: 1.1676 - val_auc: 0.9072 - val_precision: 0.7439 - val_recall: 0.5460 - val_accuracy: 0.6585\n",
            "Epoch 3/10\n",
            "2000/2000 [==============================] - 821s 411ms/step - loss: 1.1332 - auc: 0.9150 - precision: 0.7453 - recall: 0.5658 - accuracy: 0.6712 - val_loss: 1.1321 - val_auc: 0.9143 - val_precision: 0.7518 - val_recall: 0.5650 - val_accuracy: 0.6820\n",
            "Epoch 4/10\n",
            "2000/2000 [==============================] - 822s 411ms/step - loss: 1.0760 - auc: 0.9255 - precision: 0.7608 - recall: 0.6148 - accuracy: 0.7036 - val_loss: 1.1505 - val_auc: 0.9102 - val_precision: 0.7352 - val_recall: 0.6135 - val_accuracy: 0.6925\n",
            "Epoch 5/10\n",
            "2000/2000 [==============================] - 826s 413ms/step - loss: 1.0308 - auc: 0.9349 - precision: 0.7753 - recall: 0.6562 - accuracy: 0.7259 - val_loss: 1.1434 - val_auc: 0.9229 - val_precision: 0.7457 - val_recall: 0.6525 - val_accuracy: 0.7105\n",
            "Epoch 6/10\n",
            "2000/2000 [==============================] - 824s 412ms/step - loss: 1.0074 - auc: 0.9397 - precision: 0.7845 - recall: 0.6787 - accuracy: 0.7386 - val_loss: 1.1696 - val_auc: 0.9231 - val_precision: 0.7432 - val_recall: 0.6655 - val_accuracy: 0.7050\n",
            "Epoch 7/10\n",
            "2000/2000 [==============================] - 812s 406ms/step - loss: 0.9830 - auc: 0.9438 - precision: 0.7996 - recall: 0.6972 - accuracy: 0.7491 - val_loss: 1.1048 - val_auc: 0.9271 - val_precision: 0.7510 - val_recall: 0.6725 - val_accuracy: 0.7110\n",
            "Epoch 8/10\n",
            "2000/2000 [==============================] - 824s 412ms/step - loss: 0.9714 - auc: 0.9463 - precision: 0.7991 - recall: 0.7051 - accuracy: 0.7546 - val_loss: 1.0914 - val_auc: 0.9305 - val_precision: 0.7724 - val_recall: 0.6650 - val_accuracy: 0.7130\n",
            "Epoch 9/10\n",
            "2000/2000 [==============================] - 872s 436ms/step - loss: 0.9491 - auc: 0.9485 - precision: 0.8031 - recall: 0.7115 - accuracy: 0.7599 - val_loss: 1.1636 - val_auc: 0.9262 - val_precision: 0.7411 - val_recall: 0.6885 - val_accuracy: 0.7125\n",
            "Epoch 10/10\n",
            "2000/2000 [==============================] - 833s 416ms/step - loss: 0.9411 - auc: 0.9506 - precision: 0.8083 - recall: 0.7232 - accuracy: 0.7639 - val_loss: 1.1355 - val_auc: 0.9233 - val_precision: 0.7561 - val_recall: 0.6355 - val_accuracy: 0.6980\n"
          ]
        }
      ],
      "source": [
        "# train and validate the model on the tfidf vectors of text which we have created initially for 10 epochs,\n",
        "# adjust batch size according to your computation power (suggestion use : 8)\n",
        "train_tfidf_np = np.array(train_tfidf.todense())\n",
        "validation_tfidf_np = np.array(validation_tfidf.todense())\n",
        "\n",
        "training_tfidf = tfidf_model.fit(train_tfidf_np, train_oh,\n",
        "                                 batch_size=8, epochs = 10,\n",
        "                                 validation_data=(validation_tfidf_np, validation_oh))\n"
      ]
    },
    {
      "cell_type": "code",
      "execution_count": 23,
      "metadata": {
        "colab": {
          "base_uri": "https://localhost:8080/",
          "height": 1000
        },
        "id": "EsnEOHXRwXkv",
        "outputId": "1226a43b-348b-43ec-9322-180cde7c5a42"
      },
      "outputs": [
        {
          "data": {
            "image/png": "[encoded data removed]",
            "text/plain": [
              "<Figure size 640x480 with 1 Axes>"
            ]
          },
          "metadata": {},
          "output_type": "display_data"
        },
        {
          "data": {
            "image/png": "[encoded data removed]",
            "text/plain": [
              "<Figure size 640x480 with 1 Axes>"
            ]
          },
          "metadata": {},
          "output_type": "display_data"
        },
        {
          "data": {
            "image/png": "[encoded data removed]",
            "text/plain": [
              "<Figure size 640x480 with 1 Axes>"
            ]
          },
          "metadata": {},
          "output_type": "display_data"
        },
        {
          "data": {
            "image/png": "[encoded data removed]",
            "text/plain": [
              "<Figure size 640x480 with 1 Axes>"
            ]
          },
          "metadata": {},
          "output_type": "display_data"
        },
        {
          "data": {
            "image/png": "[encoded data removed]",
            "text/plain": [
              "<Figure size 640x480 with 1 Axes>"
            ]
          },
          "metadata": {},
          "output_type": "display_data"
        }
      ],
      "source": [
        "# plot train loss vs val loss, train auc vs val auc, train recall vs val recall, train precision vs val precision and train accuracy vs val accuracy and comment your observations\n",
        "\n",
        "# Loss\n",
        "plt.plot(training_tfidf.history['loss'])\n",
        "plt.plot(training_tfidf.history['val_loss'])\n",
        "plt.legend(['Train', 'Validation'])\n",
        "plt.xlabel('Epochs')\n",
        "plt.ylabel('Loss')\n",
        "plt.show()\n",
        "\n",
        "# AUC\n",
        "plt.plot(training_tfidf.history['auc'])\n",
        "plt.plot(training_tfidf.history['val_auc'])\n",
        "plt.legend(['Train', 'Validation'])\n",
        "plt.xlabel('Epochs')\n",
        "plt.ylabel('AUC')\n",
        "plt.show()\n",
        "\n",
        "# Recall\n",
        "plt.plot(training_tfidf.history['recall'])\n",
        "plt.plot(training_tfidf.history['val_recall'])\n",
        "plt.legend(['Train', 'Validation'])\n",
        "plt.xlabel('Epochs')\n",
        "plt.ylabel('Recall')\n",
        "plt.show()\n",
        "\n",
        "# Precision\n",
        "plt.plot(training_tfidf.history['precision'])\n",
        "plt.plot(training_tfidf.history['val_precision'])\n",
        "plt.legend(['Train', 'Validation'])\n",
        "plt.xlabel('Epochs')\n",
        "plt.ylabel('Precision')\n",
        "plt.show()\n",
        "\n",
        "# Accuracy\n",
        "plt.plot(training_tfidf.history['accuracy'])\n",
        "plt.plot(training_tfidf.history['val_accuracy'])\n",
        "plt.legend(['Train', 'Validation'])\n",
        "plt.xlabel('Epochs')\n",
        "plt.ylabel('Accuracy')\n",
        "plt.show()"
      ]
    },
    {
      "cell_type": "markdown",
      "metadata": {
        "id": "Wk6ndq__EV1k"
      },
      "source": [
        "Similar to the plots above, we can see that the metrics like Accuracy, AUC, Precision and Recall increase with the epochs and the loss deacreases with the increase in epochs. We can see a train accuracy close to 75% and validation accuracy close to 68% with the tf-idf. The AUC value is in the range of 91-95% for the train and validation datasets. The precision is around 80% for the train dataset and 74% for the validation dataset."
      ]
    },
    {
      "cell_type": "markdown",
      "metadata": {
        "id": "2Hh-iY-3EYRU"
      },
      "source": [
        "**Comparison between count vectorizer and tf-idf model**\\\n",
        "\\\n",
        "The training and validation metrics for the models using count vectorizer and tf-idf seem similar with very slight variations. The difference between using count vectorizer and tf-idf is that count vectorizer does not take into count the importance of a word in a sentence, where as tf-idf takes the importance into consideration as well."
      ]
    },
    {
      "cell_type": "markdown",
      "metadata": {
        "id": "4adDDQWeQyGb"
      },
      "source": [
        "## Question 4 Theory Question  \n",
        "\n",
        "What is the difference between Count Vectorizer, TFIDF, Word2Vec and Glove? (5 points)"
      ]
    },
    {
      "cell_type": "markdown",
      "metadata": {
        "id": "cXTRkF6KRB_D"
      },
      "source": [
        "**Answer:**\\\n",
        "\\\n",
        "**Count Vectorizer:**\\\n",
        "\\\n",
        "Count Vectorizer is a way to convert a given set of strings into a frequency representation. Count Vectors are helpful in understanding the type of text by the frequency of words in it. But it is not able to identify more important and less important words for analysis rather it will just consider words that are abundant in a corpus as the most statistically significant word. It also doesn't identify the relationships between words like linguistic similarity between words.\\\n",
        "\\\n",
        "**TF-IDF:**\\\n",
        "\\\n",
        "TF-IDF means Term Frequency - Inverse Document Frequency. It provides a numerical representation of how important a word is for statistical analysis. TF-IDF is better than Count Vectorizer because it not only focuses on the frequency of words present in the corpus but also provides the importance of the words. With this information we can remove the words that are less important for analysis, hence making the model building less complex by reducing the input dimensions. But it fails to provide linguistic information about the words such as the real meaning of the words, similarity with other words. \\\n",
        "\\\n",
        "To train a model on the linguistic relationship of the words, \"word2vec\" and \"Glove\" can be used.\\\n",
        "\\\n",
        "**word2vec:**\\\n",
        "\\\n",
        "It uses small neural networks to calculate word embeddings based on words’ context. Word2Vec learns embeddings by relating target words to their context. However, it ignores whether some context words appear more often than others. For Word2Vec, a frequent co-occurrence of words creates more training examples, but it carries no additional information.\\\n",
        "\\\n",
        "**Glove:**\\\n",
        "\\\n",
        "GloVe builds word embeddings in a way that a combination of word vectors relates directly to the probability of these words’ co-occurrence in the corpus. GloVe stresses that the frequency of co-occurrences is vital information and should not be left as additional training examples.\n"
      ]
    },
    {
      "cell_type": "markdown",
      "metadata": {
        "id": "yQQsqcto79zE"
      },
      "source": [
        "What is the significant difference between the Naive Bayes Implementation using Bag of Words and TF-IDF? (5 points)"
      ]
    },
    {
      "cell_type": "markdown",
      "metadata": {
        "id": "JtiPCTZM8Aua"
      },
      "source": [
        "**Answer:**\\\n",
        "Bag of Words just creates a set of vectors containing the count of word occurrences in the document, while the TF-IDF model contains information on the more important words and the less important ones as well.\n",
        "\n",
        "Bag of Words vectors are easy to interpret. The Bag of Words method creates a sparse matrix of the vocabulary which results in increased computational time if the vocabulary size is huge. The bag-of-words approach completely ignores the importance of a word within a sentence, which is a disadvantage.\n",
        "\n",
        "Meanwhile TF-IDF method is preferred in machine learning model as it contains information on the more important and less important words.\n",
        "\n",
        "Thus from the above points, we can say that when Naive Bayes is implemented using Bag of Words the importance of a word within a sentence is ignored where as TF-IDF presents the model with the information about the importance of a word within a sentence."
      ]
    },
    {
      "cell_type": "code",
      "execution_count": null,
      "metadata": {
        "id": "OaXBo1Bw8C1K"
      },
      "outputs": [],
      "source": []
    }
  ],
  "metadata": {
    "colab": {
      "provenance": []
    },
    "kernelspec": {
      "display_name": "Python 3",
      "language": "python",
      "name": "python3"
    },
    "language_info": {
      "codemirror_mode": {
        "name": "ipython",
        "version": 3
      },
      "file_extension": ".py",
      "mimetype": "text/x-python",
      "name": "python",
      "nbconvert_exporter": "python",
      "pygments_lexer": "ipython3",
      "version": "3.7.5"
    }
  },
  "nbformat": 4,
  "nbformat_minor": 0
}
